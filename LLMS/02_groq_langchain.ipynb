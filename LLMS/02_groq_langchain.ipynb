{
 "cells": [
  {
   "cell_type": "code",
   "execution_count": 2,
   "metadata": {},
   "outputs": [
    {
     "data": {
      "text/plain": [
       "True"
      ]
     },
     "execution_count": 2,
     "metadata": {},
     "output_type": "execute_result"
    }
   ],
   "source": [
    "import os\n",
    "import dotenv\n",
    "\n",
    "dotenv.load_dotenv()"
   ]
  },
  {
   "cell_type": "code",
   "execution_count": 3,
   "metadata": {},
   "outputs": [
    {
     "data": {
      "text/plain": [
       "'Estou pronto para responder em português!'"
      ]
     },
     "execution_count": 3,
     "metadata": {},
     "output_type": "execute_result"
    }
   ],
   "source": [
    "from langchain_groq import ChatGroq\n",
    "\n",
    "chat= ChatGroq(\n",
    "    temperature=0,\n",
    "    model=\"llama3-8b-8192\",\n",
    "    api_key=os.getenv(\"groqKey\")\n",
    ")\n",
    "\n",
    "response = chat.invoke(\"oi Responda em portugues\")\n",
    "response.content"
   ]
  },
  {
   "cell_type": "code",
   "execution_count": 4,
   "metadata": {},
   "outputs": [],
   "source": [
    "import textwrap\n",
    "\n",
    "def format_text(response):\n",
    "    text = response\n",
    "    text_formated = textwrap.fill(text,width=100)\n",
    "    print(text_formated)"
   ]
  },
  {
   "cell_type": "code",
   "execution_count": 5,
   "metadata": {},
   "outputs": [
    {
     "name": "stdout",
     "output_type": "stream",
     "text": [
      "O céu! É como um grande tapete de seda azul que cobre a Terra, não é? É o limite entre o que é\n",
      "possível e o que é infinito, entre a realidade e a fantasia. É o lugar onde as estrelas brilham como\n",
      "diamantes e as nuvens se transformam em obras de arte. É o ponto de partida para os sonhos e os\n",
      "desejos, o lugar onde as coisas podem acontecer e onde a imaginação pode voar livremente.\n"
     ]
    }
   ],
   "source": [
    "from langchain_core.prompts import ChatPromptTemplate\n",
    "\n",
    "template = ChatPromptTemplate.from_messages([\n",
    "    (\"system\",\"você é um assistente que sempre fala no sentido figurado\"),\n",
    "    (\"human\",\"{input}\")\n",
    "])\n",
    "\n",
    "chain = template | chat\n",
    "\n",
    "response = chain.invoke({\"input\":\"o que é o céu?\"})\n",
    "\n",
    "format_text(response.content)"
   ]
  },
  {
   "cell_type": "code",
   "execution_count": 6,
   "metadata": {},
   "outputs": [
    {
     "name": "stdout",
     "output_type": "stream",
     "text": [
      "Viver é como navegar um mar de possibilidades, com ondas de emoções e correntes de experiências que nos levam a lugares inesperados. É como construir um castelo de areia, que pode ser destruído a qualquer momento, mas que também pode ser refeito e reimaginado.\n",
      "\n",
      "Viver é como uma canção que você canta com alegria e tristeza, com harmonias e discordâncias, com ritmos e silêncios. É como uma pintura que você cria com cores vivas e sombras profundas, com linhas e curvas que se entrelaçam e se desenrolam.\n",
      "\n",
      "Viver é como uma jornada sem fim, com desafios e surpresas, com descobertas e perdas. É como uma flor que se abre e se fecha, que se esconde e se revela, que se transforma e se renova.\n",
      "\n",
      "E, acima de tudo, viver é como um segredo que você descobre pouco a pouco, um segredo que é revelado em cada momento, em cada experiência, em cada emoção. É como um presente que você abre e desenrola, um presente que é único e irrepetível, um presente que é você mesmo."
     ]
    }
   ],
   "source": [
    "stream = chain.stream({\"input\":\"o que é viver?\"})\n",
    "for chunk in stream:\n",
    "    print(chunk.content,end=\"\",flush=True)"
   ]
  },
  {
   "cell_type": "code",
   "execution_count": null,
   "metadata": {},
   "outputs": [
    {
     "data": {
      "text/plain": [
       "AIMessage(content='', additional_kwargs={'tool_calls': [{'id': 'call_4c8t', 'function': {'arguments': '{\"formato\":\"%H:%M:%S\"}', 'name': 'hora_atual'}, 'type': 'function'}]}, response_metadata={'token_usage': {'completion_tokens': 78, 'prompt_tokens': 922, 'total_tokens': 1000, 'completion_time': 0.065, 'prompt_time': 0.172266039, 'queue_time': 0.217803575, 'total_time': 0.237266039}, 'model_name': 'llama3-8b-8192', 'system_fingerprint': 'fp_179b0f92c9', 'finish_reason': 'tool_calls', 'logprobs': None}, id='run-fd96d674-28e4-4001-8f13-304edf438723-0', tool_calls=[{'name': 'hora_atual', 'args': {'formato': '%H:%M:%S'}, 'id': 'call_4c8t'}])"
      ]
     },
     "execution_count": 10,
     "metadata": {},
     "output_type": "execute_result"
    }
   ],
   "source": [
    "from typing import Optional\n",
    "from langchain_core.tools import tool\n",
    "from datetime import datetime\n",
    "\n",
    "@tool\n",
    "def hora_atual(formato:Optional[str] = \"%H:%M:%S\"):\n",
    "    \"\"\"retorna a hora atual no formato especificado\"\"\"\n",
    "\n",
    "    now = datetime.now()\n",
    "    return now.strftime(formato)\n",
    "\n",
    "\n",
    "chat_tool = chat.bind_tools([hora_atual],tool_choice=\"auto\")\n",
    "\n",
    "response = chat_tool.invoke(\"qual e a hora agora?\")\n",
    "\n",
    "response\n"
   ]
  }
 ],
 "metadata": {
  "kernelspec": {
   "display_name": ".venv",
   "language": "python",
   "name": "python3"
  },
  "language_info": {
   "codemirror_mode": {
    "name": "ipython",
    "version": 3
   },
   "file_extension": ".py",
   "mimetype": "text/x-python",
   "name": "python",
   "nbconvert_exporter": "python",
   "pygments_lexer": "ipython3",
   "version": "3.12.7"
  }
 },
 "nbformat": 4,
 "nbformat_minor": 2
}
