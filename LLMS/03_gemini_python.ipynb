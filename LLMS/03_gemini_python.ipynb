{
 "cells": [
  {
   "cell_type": "code",
   "execution_count": 1,
   "metadata": {},
   "outputs": [],
   "source": [
    "import os\n",
    "import dotenv\n",
    "\n",
    "dotenv.load_dotenv()\n",
    "\n",
    "api_key = os.getenv(\"geminiKey\")"
   ]
  },
  {
   "cell_type": "code",
   "execution_count": 2,
   "metadata": {},
   "outputs": [],
   "source": [
    "import google.generativeai as genai\n",
    "\n",
    "genai.configure(api_key=api_key)"
   ]
  },
  {
   "cell_type": "code",
   "execution_count": 3,
   "metadata": {},
   "outputs": [],
   "source": [
    "model = genai.GenerativeModel(\"gemini-1.5-flash\")\n",
    "response = model.generate_content(\"qual dica voce recomenda para ter uma vida boa?\")"
   ]
  },
  {
   "cell_type": "code",
   "execution_count": 4,
   "metadata": {},
   "outputs": [
    {
     "data": {
      "text/plain": [
       "response:\n",
       "GenerateContentResponse(\n",
       "    done=True,\n",
       "    iterator=None,\n",
       "    result=glm.GenerateContentResponse({\n",
       "      \"candidates\": [\n",
       "        {\n",
       "          \"content\": {\n",
       "            \"parts\": [\n",
       "              {\n",
       "                \"text\": \"A melhor dica para ter uma vida boa \\u00e9 **cultivar relacionamentos significativos e investir em seu crescimento pessoal.**\\n\\nIsso engloba v\\u00e1rios aspectos:\\n\\n* **Conex\\u00f5es genu\\u00ednas:**  Dedique tempo para construir e nutrir relacionamentos com familiares, amigos e comunidade.  O apoio e o amor de pessoas pr\\u00f3ximas s\\u00e3o fundamentais para a felicidade e bem-estar.\\n\\n* **Autoconhecimento:** Entenda seus valores, paix\\u00f5es e pontos fortes.  Isso ajuda a tomar decis\\u00f5es alinhadas com quem voc\\u00ea \\u00e9 e o que voc\\u00ea deseja para sua vida.\\n\\n* **Aprendizado cont\\u00ednuo:** Busque conhecimento, novas experi\\u00eancias e desafios.  Aprender e crescer intelectualmente e pessoalmente mant\\u00e9m a vida estimulante e significativa.\\n\\n* **Cuidar da sa\\u00fade f\\u00edsica e mental:**  Pratique atividades f\\u00edsicas regularmente, alimente-se de forma saud\\u00e1vel e procure ajuda profissional quando necess\\u00e1rio.  A sa\\u00fade \\u00e9 a base para uma vida plena.\\n\\n* **Gratid\\u00e3o:** Aprenda a apreciar as coisas boas da sua vida, por menores que sejam.  A gratid\\u00e3o aumenta a sensa\\u00e7\\u00e3o de bem-estar.\\n\\n* **Resili\\u00eancia:**  Desenvolva a capacidade de lidar com os desafios e adversidades da vida.  Nem tudo ser\\u00e1 f\\u00e1cil, mas a resili\\u00eancia permite superar obst\\u00e1culos e seguir em frente.\\n\\n* **Prop\\u00f3sito:** Encontre algo que te motive e te d\\u00ea um senso de prop\\u00f3sito.  Isso pode ser um trabalho, um hobby, um projeto social ou algo que contribua para o mundo.\\n\\nN\\u00e3o existe uma f\\u00f3rmula m\\u00e1gica para uma vida boa, mas a combina\\u00e7\\u00e3o desses elementos contribui significativamente para uma vida mais plena, significativa e feliz.  A chave est\\u00e1 em encontrar o equil\\u00edbrio e o que funciona melhor para voc\\u00ea.\\n\"\n",
       "              }\n",
       "            ],\n",
       "            \"role\": \"model\"\n",
       "          },\n",
       "          \"finish_reason\": 1,\n",
       "          \"safety_ratings\": [],\n",
       "          \"token_count\": 0,\n",
       "          \"grounding_attributions\": []\n",
       "        }\n",
       "      ],\n",
       "      \"usage_metadata\": {\n",
       "        \"prompt_token_count\": 10,\n",
       "        \"candidates_token_count\": 358,\n",
       "        \"total_token_count\": 368\n",
       "      }\n",
       "    }),\n",
       ")"
      ]
     },
     "execution_count": 4,
     "metadata": {},
     "output_type": "execute_result"
    }
   ],
   "source": [
    "response"
   ]
  },
  {
   "cell_type": "code",
   "execution_count": 5,
   "metadata": {},
   "outputs": [],
   "source": [
    "import textwrap\n",
    "\n",
    "def format_text(response):\n",
    "    text_formated = textwrap.fill(response,width=100)   \n",
    "    print(text_formated)"
   ]
  },
  {
   "cell_type": "code",
   "execution_count": 6,
   "metadata": {},
   "outputs": [
    {
     "name": "stdout",
     "output_type": "stream",
     "text": [
      "A melhor dica para ter uma vida boa é **cultivar relacionamentos significativos e investir em seu\n",
      "crescimento pessoal.**  Isso engloba vários aspectos:  * **Conexões genuínas:**  Dedique tempo para\n",
      "construir e nutrir relacionamentos com familiares, amigos e comunidade.  O apoio e o amor de pessoas\n",
      "próximas são fundamentais para a felicidade e bem-estar.  * **Autoconhecimento:** Entenda seus\n",
      "valores, paixões e pontos fortes.  Isso ajuda a tomar decisões alinhadas com quem você é e o que\n",
      "você deseja para sua vida.  * **Aprendizado contínuo:** Busque conhecimento, novas experiências e\n",
      "desafios.  Aprender e crescer intelectualmente e pessoalmente mantém a vida estimulante e\n",
      "significativa.  * **Cuidar da saúde física e mental:**  Pratique atividades físicas regularmente,\n",
      "alimente-se de forma saudável e procure ajuda profissional quando necessário.  A saúde é a base para\n",
      "uma vida plena.  * **Gratidão:** Aprenda a apreciar as coisas boas da sua vida, por menores que\n",
      "sejam.  A gratidão aumenta a sensação de bem-estar.  * **Resiliência:**  Desenvolva a capacidade de\n",
      "lidar com os desafios e adversidades da vida.  Nem tudo será fácil, mas a resiliência permite\n",
      "superar obstáculos e seguir em frente.  * **Propósito:** Encontre algo que te motive e te dê um\n",
      "senso de propósito.  Isso pode ser um trabalho, um hobby, um projeto social ou algo que contribua\n",
      "para o mundo.  Não existe uma fórmula mágica para uma vida boa, mas a combinação desses elementos\n",
      "contribui significativamente para uma vida mais plena, significativa e feliz.  A chave está em\n",
      "encontrar o equilíbrio e o que funciona melhor para você.\n"
     ]
    }
   ],
   "source": [
    "format_text(response.text)"
   ]
  },
  {
   "cell_type": "markdown",
   "metadata": {},
   "source": [
    "### stream\n"
   ]
  },
  {
   "cell_type": "code",
   "execution_count": 7,
   "metadata": {},
   "outputs": [
    {
     "name": "stdout",
     "output_type": "stream",
     "text": [
      "Não existe uma única resposta para qual o sentido da felicidade.  O sentido da felicidade é profundamente pessoal e subjetivo, variando de pessoa para pessoa e ao longo da vida de um indivíduo.  Algumas perspectivas incluem:\n",
      "\n",
      "* **Felicidade como um objetivo em si:** Para alguns, a felicidade é o principal objetivo da vida, algo a ser perseguido e alcançado.  A busca por experiências prazerosas, realização pessoal e bem-estar físico e mental se torna o motor principal.\n",
      "\n",
      "* **Felicidade como um subproduto:** Outros acreditam que a felicidade não é um objetivo direto, mas sim um subproduto de uma vida vivida com propósito, significado e conexão com algo maior que si mesmo (seja família, comunidade, trabalho, crenças espirituais etc.).  A busca por excelência em algo, o desenvolvimento de relacionamentos significativos e a contribuição para o mundo podem levar à felicidade como um resultado natural.\n",
      "\n",
      "* **Felicidade como um estado de espírito:**  Essa perspectiva enfatiza a capacidade de cultivar uma mentalidade positiva e resiliente, mesmo diante de desafios.  A felicidade se torna uma escolha consciente, uma forma de encarar a vida e lidar com suas adversidades.  A gratidão, a compaixão e o autoconhecimento são ferramentas-chave nessa abordagem.\n",
      "\n",
      "* **Felicidade como uma construção social:**  A sociedade influencia significativamente nossa percepção da felicidade.  Os padrões de beleza, sucesso e bem-estar impostos pela cultura podem distorcer nossa compreensão do que significa ser feliz, levando à busca por metas externas que podem não trazer felicidade real.\n",
      "\n",
      "Em resumo, o sentido da felicidade é o que *você* o define.  Não existe uma resposta correta ou incorreta.  A jornada para entender o seu sentido da felicidade é um processo de autodescoberta contínuo, envolvendo introspecção, experimentação e a aceitação de que a felicidade é fluida e muda ao longo do tempo.\n"
     ]
    }
   ],
   "source": [
    "stream = model.generate_content(\"qual o sentido da felicidade?\",stream=True)\n",
    "\n",
    "complete_response = \"\"\n",
    "for chunk in stream:\n",
    "    print(chunk.text,end=\"\",flush=True)\n",
    "    complete_response+=chunk.text"
   ]
  },
  {
   "cell_type": "markdown",
   "metadata": {},
   "source": [
    "### historico da conversa"
   ]
  },
  {
   "cell_type": "code",
   "execution_count": 8,
   "metadata": {},
   "outputs": [],
   "source": [
    "model = genai.GenerativeModel(model_name=\"gemini-1.5-flash\")\n",
    "chat = model.start_chat(history=[])\n",
    "response = chat.send_message(\"explique o que e langchain para uma criança\")"
   ]
  },
  {
   "cell_type": "code",
   "execution_count": 9,
   "metadata": {},
   "outputs": [
    {
     "name": "stdout",
     "output_type": "stream",
     "text": [
      "Imagine que você tem muitos livros de histórias, mas eles estão todos em diferentes prateleiras e\n",
      "armários, alguns até em línguas diferentes!  Para encontrar a história certa, você teria que\n",
      "procurar em cada lugar, certo?  LangChain é como um super-ajudante que te ajuda a encontrar as\n",
      "informações certas em todos esses livros. Ele consegue \"ler\" as histórias em todos os seus livros,\n",
      "lembrar onde está cada parte da história e te dar as respostas para suas perguntas.  Por exemplo, se\n",
      "você perguntar: \"Qual era o nome do cachorro da Chapeuzinho Vermelho?\", o LangChain vai procurar em\n",
      "todos os seus livros de histórias sobre Chapeuzinho Vermelho e te dar a resposta.  Ele não só\n",
      "procura em livros, mas também em sites, computadores e qualquer outro lugar onde informações estejam\n",
      "escritas.  Ele é como um detetive de informações, ajudando a encontrar tudo que você precisa de\n",
      "forma rápida e fácil!\n"
     ]
    }
   ],
   "source": [
    "format_text(response.text)"
   ]
  },
  {
   "cell_type": "code",
   "execution_count": 10,
   "metadata": {},
   "outputs": [
    {
     "data": {
      "text/plain": [
       "[parts {\n",
       "   text: \"explique o que e langchain para uma criança\"\n",
       " }\n",
       " role: \"user\",\n",
       " parts {\n",
       "   text: \"Imagine que você tem muitos livros de histórias, mas eles estão todos em diferentes prateleiras e armários, alguns até em línguas diferentes!  Para encontrar a história certa, você teria que procurar em cada lugar, certo?\\n\\nLangChain é como um super-ajudante que te ajuda a encontrar as informações certas em todos esses livros. Ele consegue \\\"ler\\\" as histórias em todos os seus livros, lembrar onde está cada parte da história e te dar as respostas para suas perguntas.\\n\\nPor exemplo, se você perguntar: \\\"Qual era o nome do cachorro da Chapeuzinho Vermelho?\\\", o LangChain vai procurar em todos os seus livros de histórias sobre Chapeuzinho Vermelho e te dar a resposta.\\n\\nEle não só procura em livros, mas também em sites, computadores e qualquer outro lugar onde informações estejam escritas.  Ele é como um detetive de informações, ajudando a encontrar tudo que você precisa de forma rápida e fácil!\\n\"\n",
       " }\n",
       " role: \"model\"]"
      ]
     },
     "execution_count": 10,
     "metadata": {},
     "output_type": "execute_result"
    }
   ],
   "source": [
    "chat.history"
   ]
  }
 ],
 "metadata": {
  "kernelspec": {
   "display_name": ".venv",
   "language": "python",
   "name": "python3"
  },
  "language_info": {
   "codemirror_mode": {
    "name": "ipython",
    "version": 3
   },
   "file_extension": ".py",
   "mimetype": "text/x-python",
   "name": "python",
   "nbconvert_exporter": "python",
   "pygments_lexer": "ipython3",
   "version": "3.12.7"
  }
 },
 "nbformat": 4,
 "nbformat_minor": 2
}
