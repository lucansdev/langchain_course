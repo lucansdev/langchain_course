{
 "cells": [
  {
   "cell_type": "code",
   "execution_count": 2,
   "metadata": {},
   "outputs": [],
   "source": [
    "import os\n",
    "import dotenv\n",
    "\n",
    "dotenv.load_dotenv()\n",
    "\n",
    "api_key = os.getenv(\"mistralKey\")"
   ]
  },
  {
   "cell_type": "code",
   "execution_count": 3,
   "metadata": {},
   "outputs": [],
   "source": [
    "from mistralai import Mistral\n",
    "\n",
    "client = Mistral(api_key=api_key)"
   ]
  },
  {
   "cell_type": "code",
   "execution_count": 4,
   "metadata": {},
   "outputs": [
    {
     "name": "stdout",
     "output_type": "stream",
     "text": [
      "A Premier League é uma das ligas de futebol mais competitivas do mundo, e a escolha do \"melhor\" jogador pode variar dependendo de vários fatores, incluindo a época específica, as preferências pessoais e os critérios de avaliação (por exemplo, gols marcados, assistências, desempenho defensivo, etc.).\n",
      "\n",
      "Ao longo dos anos, muitos jogadores excepcionais têm brilhado na Premier League, incluindo:\n",
      "\n",
      "1. **Thierry Henry** - Conhecido por sua habilidade, velocidade e capacidade de marcar gols, Henry foi uma figura central no Arsenal.\n",
      "2. **Alan Shearer** - Um dos maiores artilheiros da história da Premier League, Shearer foi uma lenda no Newcastle United.\n",
      "3. **Cristiano Ronaldo** - Durante seu tempo no Manchester United, Ronaldo se destacou como um dos melhores jogadores do mundo.\n",
      "4. **Wayne Rooney** - Outro ícone do Manchester United, Rooney foi conhecido por sua versatilidade e capacidade de marcar gols.\n",
      "5. **Virgil van Dijk** - Um dos melhores defensores da atualidade, Van Dijk tem sido uma peça fundamental no Liverpool.\n",
      "6. **Kevin De Bruyne** - Conhecido por sua visão de jogo e habilidade de passe, De Bruyne tem sido essencial para o sucesso do Manchester City.\n",
      "7. **Mohamed Salah** - Desde que chegou ao Liverpool, Salah tem sido um dos maiores artilheiros da liga.\n",
      "\n",
      "A escolha do melhor jogador pode depender da temporada específica e do impacto imediato do jogador. Por exemplo, na temporada 2022-2023, jogadores como Erling Haaland (Manchester City) e Bukayo Saka (Arsenal) têm se destacado.\n",
      "\n",
      "Portanto, a resposta pode variar dependendo do contexto e das preferências individuais.\n"
     ]
    }
   ],
   "source": [
    "model = \"mistral-large-latest\"\n",
    "\n",
    "chat_response = client.chat.complete(\n",
    "    model = model,\n",
    "    messages=[\n",
    "        {\"role\":\"user\",\n",
    "         \"content\":\"qual melhor jogador da premier league?\"}\n",
    "    ]\n",
    ")\n",
    "\n",
    "\n",
    "print(chat_response.choices[0].message.content)"
   ]
  },
  {
   "cell_type": "markdown",
   "metadata": {},
   "source": [
    "### vision"
   ]
  },
  {
   "cell_type": "code",
   "execution_count": 5,
   "metadata": {},
   "outputs": [],
   "source": [
    "model = \"pixtral-12b-2409\"\n",
    "\n",
    "messages = [\n",
    "    {\"role\":\"user\",\n",
    "     \"content\":[\n",
    "         {\"type\":\"text\",\n",
    "          \"text\":\"descreva para mim essa imagem\"},\n",
    "          {\"type\":\"image_url\",\n",
    "           \"image_url\":\"https://tripfixers.com/wp-content/uploads/2019/11/eiffel-tower-with-snow.jpeg\"}\n",
    "     ]}\n",
    "]\n",
    "\n",
    "chat_response = client.chat.complete(model=model,messages=messages)"
   ]
  },
  {
   "cell_type": "code",
   "execution_count": 6,
   "metadata": {},
   "outputs": [
    {
     "name": "stdout",
     "output_type": "stream",
     "text": [
      "A imagem captura uma cena de inverno serena em Paris, França, com a icônica Torre Eiffel como ponto focal. A torre, pintada em um tom de cinza, destaca-se contra o fundo de um céu nublado. Está cercada por árvores desfolhadas, cujos galhos estão cobertos por uma camada de neve fresca, acrescentando um senso de tranquilidade à cena.\n",
      "\n",
      "No primeiro plano, um poste de luz preto com uma lanterna verde está de guarda, sua presença adicionando um toque de charme urbano à paisagem natural. O chão está coberto por uma espessa camada de neve, intocada exceto por algumas pegadas que levam até a torre, sugerindo a presença de visitantes.\n",
      "\n",
      "A imagem é tirada de um ângulo baixo, o que enfatiza a altura e a grandiosidade da Torre Eiffel. A composição geral da imagem, com a torre no centro, as árvores à esquerda e o poste de luz à direita, cria uma sensação de equilíbrio e harmonia. A cena é um testemunho da beleza atemporal de Paris, mesmo no coração do inverno.\n"
     ]
    }
   ],
   "source": [
    "print(chat_response.choices[0].message.content)"
   ]
  },
  {
   "cell_type": "markdown",
   "metadata": {},
   "source": [
    "### code generation"
   ]
  },
  {
   "cell_type": "code",
   "execution_count": 7,
   "metadata": {},
   "outputs": [
    {
     "name": "stdout",
     "output_type": "stream",
     "text": [
      "Sure, I can help you with that. Here is a simple Python function that generates the first n numbers in the Fibonacci sequence:\n",
      "\n",
      "```python\n",
      "def fibonacci(n):\n",
      "    fib_sequence = [0, 1]\n",
      "    while len(fib_sequence) < n:\n",
      "        fib_sequence.append(fib_sequence[-1] + fib_sequence[-2])\n",
      "    return fib_sequence[:n]\n",
      "```\n",
      "\n",
      "You can use this function like this:\n",
      "\n",
      "```python\n",
      "print(fibonacci(10))  # Output: [0, 1, 1, 2, 3, 5, 8, 13, 21, 34]\n",
      "```\n",
      "\n",
      "In this function, we start with the list `[0, 1]` which are the first two numbers in the Fibonacci sequence. Then, we enter a loop which continues until we have generated `n` numbers. In each iteration of the loop, we append the sum of the last two numbers in the sequence to the end of the list. Finally, we return the first `n` numbers in the sequence.\n"
     ]
    }
   ],
   "source": [
    "model = \"codestral-mamba-latest\"\n",
    "\n",
    "messages = [\n",
    "    {\"role\":\"user\",\n",
    "     \"content\":\"escreva uma função para mim de fibonacci\"}\n",
    "]\n",
    "\n",
    "chat_response = client.chat.complete(\n",
    "    model=model,\n",
    "    messages=messages\n",
    ")\n",
    "\n",
    "print(chat_response.choices[0].message.content)"
   ]
  }
 ],
 "metadata": {
  "kernelspec": {
   "display_name": ".venv",
   "language": "python",
   "name": "python3"
  },
  "language_info": {
   "codemirror_mode": {
    "name": "ipython",
    "version": 3
   },
   "file_extension": ".py",
   "mimetype": "text/x-python",
   "name": "python",
   "nbconvert_exporter": "python",
   "pygments_lexer": "ipython3",
   "version": "3.12.7"
  }
 },
 "nbformat": 4,
 "nbformat_minor": 2
}
