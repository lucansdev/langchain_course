{
 "cells": [
  {
   "cell_type": "code",
   "execution_count": 2,
   "metadata": {},
   "outputs": [],
   "source": [
    "import os\n",
    "import dotenv\n",
    "\n",
    "dotenv.load_dotenv()\n",
    "\n",
    "api_key = os.getenv(\"mistralKey\")"
   ]
  },
  {
   "cell_type": "code",
   "execution_count": 3,
   "metadata": {},
   "outputs": [],
   "source": [
    "from langchain_mistralai import ChatMistralAI\n",
    "\n",
    "chat = ChatMistralAI(api_key=api_key)"
   ]
  },
  {
   "cell_type": "code",
   "execution_count": 4,
   "metadata": {},
   "outputs": [
    {
     "data": {
      "text/plain": [
       "AIMessage(content='Olá! Eu sou um assistente virtual, por isso não sou uma pessoa real. Posso ajudar a responder às suas perguntas ou a resolver problemas relacionados à tecnologia. Em que posso ajudar?', response_metadata={'token_usage': {'prompt_tokens': 15, 'total_tokens': 73, 'completion_tokens': 58}, 'model': 'mistral-small', 'finish_reason': 'stop'}, id='run-86d7ee84-1401-48a3-96b2-6dd7280042f9-0')"
      ]
     },
     "execution_count": 4,
     "metadata": {},
     "output_type": "execute_result"
    }
   ],
   "source": [
    "response = chat.invoke(\"ola quem e voce?\")\n",
    "response"
   ]
  },
  {
   "cell_type": "code",
   "execution_count": 7,
   "metadata": {},
   "outputs": [
    {
     "name": "stdout",
     "output_type": "stream",
     "text": [
      "Havia uma vez uma formiga diligente que passava seus dias coletando comida e armazenando-a em seu formigueiro. Enquanto isso, uma cigarra ociosa se divertia ao longo do dia, cantando e se recusando a trabalhar.\n",
      "\n",
      "Quando o inverno chegou, a formiga estava bem preparada com seus estoques de comida, enquanto a cigarra não tinha nada para comer. A cigarra, então, foi até a formiga e pediu para sharing some of her food.\n",
      "\n",
      "A formiga disse à cigarra: \"Por que você não me pediu para ajudar a coletar comida durante o verão? Eu trabalhei muito duro para garantir que tivesse comida suficiente para o inverno.\"\n",
      "\n",
      "A cigarra se desculpou e pediu perdão, dizendo que não pensara no futuro e agora estava se arrependendo de suas ações.\n",
      "\n",
      "A formiga, embora inicialmente relutante, teve compaixão da cigarra e lhe deu algumas migalhas de pão. A cigarra prometeu nunca mais ser preguiçosa e ajudar a formiga no futuro.\n",
      "\n",
      "Desde então, a formiga e a cigarra aprenderam a trabalhar em equipe e a se ajudar mutuamente em todas as estações do ano. Moral da história: É importante trabalhar duro e se preparar para o futuro, mas também é importante ajudar aqueles que estão passing tough times.\n"
     ]
    }
   ],
   "source": [
    "from langchain_core.prompts import ChatPromptTemplate\n",
    "\n",
    "template = ChatPromptTemplate.from_messages([\n",
    "    (\"system\",\"voce é um contador de anedotas em português.\"),\n",
    "    (\"user\",\"crie uma historia sobre:{anedota}\")\n",
    "])\n",
    "\n",
    "\n",
    "chain = template | chat\n",
    "\n",
    "response = chain.invoke({\"anedota\":\"formiga e cigarra\"})\n",
    "print(response.content)"
   ]
  }
 ],
 "metadata": {
  "kernelspec": {
   "display_name": ".venv",
   "language": "python",
   "name": "python3"
  },
  "language_info": {
   "codemirror_mode": {
    "name": "ipython",
    "version": 3
   },
   "file_extension": ".py",
   "mimetype": "text/x-python",
   "name": "python",
   "nbconvert_exporter": "python",
   "pygments_lexer": "ipython3",
   "version": "3.12.7"
  }
 },
 "nbformat": 4,
 "nbformat_minor": 2
}
