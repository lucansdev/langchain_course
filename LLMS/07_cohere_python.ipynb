{
 "cells": [
  {
   "cell_type": "code",
   "execution_count": 1,
   "metadata": {},
   "outputs": [],
   "source": [
    "import os\n",
    "import dotenv\n",
    "\n",
    "dotenv.load_dotenv()\n",
    "\n",
    "api_key = os.getenv(\"cohereKey\")"
   ]
  },
  {
   "cell_type": "code",
   "execution_count": 2,
   "metadata": {},
   "outputs": [],
   "source": [
    "import cohere\n",
    "\n",
    "client = cohere.Client(api_key=api_key)"
   ]
  },
  {
   "cell_type": "code",
   "execution_count": 3,
   "metadata": {},
   "outputs": [
    {
     "name": "stdout",
     "output_type": "stream",
     "text": [
      "Olá! Sou um modelo de linguagem de IA treinado para ajudar os humanos a ter conversas naturais e significativas. Meu nome é Comando R+ e estou aqui para ajudá-lo com qualquer dúvida ou tarefa que você tenha. Como posso ajudá-lo hoje?\n"
     ]
    }
   ],
   "source": [
    "model = \"command-r-plus\"\n",
    "\n",
    "response = client.chat(\n",
    "    model=model,\n",
    "    message=\"oi,quem e voce?\"\n",
    ")\n",
    "\n",
    "\n",
    "print(response.text)"
   ]
  },
  {
   "cell_type": "code",
   "execution_count": 4,
   "metadata": {},
   "outputs": [
    {
     "name": "stdout",
     "output_type": "stream",
     "text": [
      "Olá! Sou um modelo de linguagem grande e sofisticado, treinado para ajudar os usuários humanos fornecendo respostas detalhadas e úteis. Estou aqui para ajudá-lo com qualquer dúvida ou tarefa que você tenha. Como posso ajudá-lo hoje?"
     ]
    }
   ],
   "source": [
    "stream = client.chat_stream(model=model,message=\"oi,quem e voce?\")\n",
    "\n",
    "for chunk in stream:\n",
    "    if chunk.event_type == \"text-generation\":\n",
    "        print(chunk.text,end=\"\",flush=True)"
   ]
  },
  {
   "cell_type": "code",
   "execution_count": 5,
   "metadata": {},
   "outputs": [
    {
     "name": "stdout",
     "output_type": "stream",
     "text": [
      "Seu nome é Lucas. Posso ajudá-lo com algo mais?"
     ]
    }
   ],
   "source": [
    "historic = [\n",
    "    {\"role\":\"USER\",\"text\":\"oi,eu sou o lucas\"},\n",
    "    {\"role\":\"CHATBOT\",\"text\":\"ola lucas,como pss te ajudar?\"}\n",
    "]\n",
    "\n",
    "\n",
    "stream = client.chat_stream(\n",
    "    model=model,\n",
    "    message=\"qual meu nome?\",\n",
    "    chat_history=historic\n",
    ")\n",
    "\n",
    "\n",
    "for chunk in stream:\n",
    "    if chunk.event_type == \"text-generation\":\n",
    "        print(chunk.text,end=\"\",flush=True)"
   ]
  }
 ],
 "metadata": {
  "kernelspec": {
   "display_name": ".venv",
   "language": "python",
   "name": "python3"
  },
  "language_info": {
   "codemirror_mode": {
    "name": "ipython",
    "version": 3
   },
   "file_extension": ".py",
   "mimetype": "text/x-python",
   "name": "python",
   "nbconvert_exporter": "python",
   "pygments_lexer": "ipython3",
   "version": "3.12.7"
  }
 },
 "nbformat": 4,
 "nbformat_minor": 2
}
