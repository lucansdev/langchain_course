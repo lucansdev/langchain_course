{
 "cells": [
  {
   "cell_type": "code",
   "execution_count": 1,
   "metadata": {},
   "outputs": [],
   "source": [
    "from langchain.pydantic_v1 import BaseModel,Field\n",
    "from langchain_core.utils.function_calling import convert_to_openai_function"
   ]
  },
  {
   "cell_type": "code",
   "execution_count": 2,
   "metadata": {},
   "outputs": [
    {
     "data": {
      "text/plain": [
       "{'name': 'Sentiment',\n",
       " 'description': 'define o sentimento e o idioma da mensagem enviada',\n",
       " 'parameters': {'type': 'object',\n",
       "  'properties': {'sentimento': {'description': \"Sentimento do text.deve ser 'pos','neg' ou 'nt' para nao definido\",\n",
       "    'type': 'string'},\n",
       "   'lingua': {'description': 'lingua que o texto foi escrito(deve estar no charset utf-8)',\n",
       "    'type': 'string'}},\n",
       "  'required': ['sentimento', 'lingua']}}"
      ]
     },
     "execution_count": 2,
     "metadata": {},
     "output_type": "execute_result"
    }
   ],
   "source": [
    "class Sentiment(BaseModel):\n",
    "    \"\"\"define o sentimento e o idioma da mensagem enviada\"\"\"\n",
    "    sentimento:str = Field(description=\"Sentimento do text.deve ser 'pos','neg' ou 'nt' para nao definido\")\n",
    "    lingua:str = Field(description=\"lingua que o texto foi escrito(deve estar no charset utf-8)\")\n",
    "\n",
    "\n",
    "tool_sentimento = convert_to_openai_function(Sentiment)\n",
    "tool_sentimento"
   ]
  },
  {
   "cell_type": "code",
   "execution_count": 3,
   "metadata": {},
   "outputs": [],
   "source": [
    "texto = \"eu gosto muito de pizza nordestina\""
   ]
  },
  {
   "cell_type": "code",
   "execution_count": 5,
   "metadata": {},
   "outputs": [],
   "source": [
    "from langchain.prompts import ChatPromptTemplate\n",
    "from langchain_openai import ChatOpenAI\n",
    "import os\n",
    "import dotenv\n",
    "\n",
    "dotenv.load_dotenv()\n",
    "\n",
    "prompt = ChatPromptTemplate.from_messages([\n",
    "    (\"system\",\"analise o texto e categorize-o conforme as intruções\"),\n",
    "    (\"user\",\"{input}\")\n",
    "])\n",
    "\n",
    "chat = ChatOpenAI(api_key=os.getenv(\"openaiKey\"))\n",
    "\n",
    "chain = prompt | chat.bind(functions=[tool_sentimento],\n",
    "                           function_call={\"name\":\"Sentiment\"})"
   ]
  },
  {
   "cell_type": "code",
   "execution_count": 6,
   "metadata": {},
   "outputs": [
    {
     "data": {
      "text/plain": [
       "AIMessage(content='', additional_kwargs={'function_call': {'arguments': '{\"sentimento\":\"pos\",\"lingua\":\"portuguese\"}', 'name': 'Sentiment'}}, response_metadata={'token_usage': {'completion_tokens': 14, 'prompt_tokens': 131, 'total_tokens': 145, 'completion_tokens_details': {'accepted_prediction_tokens': 0, 'audio_tokens': 0, 'reasoning_tokens': 0, 'rejected_prediction_tokens': 0}, 'prompt_tokens_details': {'audio_tokens': 0, 'cached_tokens': 0}}, 'model_name': 'gpt-3.5-turbo', 'system_fingerprint': None, 'finish_reason': 'stop', 'logprobs': None}, id='run-3fd12c8f-6256-496d-a3e2-b4e15ac37e0c-0')"
      ]
     },
     "execution_count": 6,
     "metadata": {},
     "output_type": "execute_result"
    }
   ],
   "source": [
    "chain.invoke({\"input\":texto})"
   ]
  },
  {
   "cell_type": "code",
   "execution_count": null,
   "metadata": {},
   "outputs": [],
   "source": [
    "solicitacoes = [\n",
    "    \"Meu computador está travando toda vez que tento abrir um programa. O que devo fazer?\",\n",
    "    \"Não consigo acessar minha conta. A senha não está funcionando!\",\n",
    "    \"Estou tendo dificuldades para instalar o software de design gráfico. Pode me ajudar?\",\n",
    "    \"Gostaria de saber como atualizar meu endereço de entrega na plataforma.\",\n",
    "    \"O meu laptop não está ligando. Acho que é um problema no cabo de energia.\",\n",
    "    \"Não consigo ver meus arquivos no aplicativo. Existe alguma solução?\"\n",
    "]"
   ]
  },
  {
   "cell_type": "code",
   "execution_count": null,
   "metadata": {},
   "outputs": [],
   "source": [
    "from enum import Enum\n",
    "from langchain.pydantic_v1 import BaseModel, Field\n",
    "\n",
    "class SetorEnum(str, Enum):\n",
    "    suporte_hardware = \"suporte_hardware\"\n",
    "    suporte_software = \"suporte_software\"\n",
    "    suporte_conta = \"suporte_conta\"\n",
    "    outros = \"outros\"\n",
    "    \n",
    "class DirecionaSuporte(BaseModel):\n",
    "    \"\"\"Direciona a solicitação de suporte para o setor responsável\"\"\"\n",
    "    setor: SetorEnum"
   ]
  },
  {
   "cell_type": "code",
   "execution_count": null,
   "metadata": {},
   "outputs": [],
   "source": [
    "from langchain_core.utils.function_calling import convert_to_openai_function\n",
    "\n",
    "tool_direcionamento_suporte = convert_to_openai_function(DirecionaSuporte)\n",
    "tool_direcionamento_suporte"
   ]
  },
  {
   "cell_type": "code",
   "execution_count": null,
   "metadata": {},
   "outputs": [],
   "source": [
    "from langchain.prompts import ChatPromptTemplate\n",
    "from langchain_openai import ChatOpenAI\n",
    "from langchain.output_parsers.openai_functions import JsonOutputFunctionsParser\n",
    "\n",
    "# Criar o prompt com as instruções detalhadas para o modelo\n",
    "system_message = '''Pense com cuidado ao categorizar o texto conforme as instruções.\n",
    "Questões relacionadas a problemas de hardware, como falha no computador, laptop ou \n",
    "outros dispositivos físicos devem ser direcionadas para \"suporte_hardware\".\n",
    "Questões relacionadas a problemas com software, como instalação, erros ao abrir programas, \n",
    "etc., devem ser direcionadas para \"suporte_software\".\n",
    "Problemas relacionados ao acesso de conta, como recuperação de senha, problemas de login, \n",
    "devem ser direcionados para \"suporte_conta\".\n",
    "Mensagens que não se encaixam nessas categorias devem ser direcionadas para \"outros\".\n",
    "'''\n",
    "\n",
    "prompt = ChatPromptTemplate.from_messages([\n",
    "    (\"system\", system_message),\n",
    "    (\"user\", \"{input}\")\n",
    "])\n",
    "\n",
    "chat = ChatOpenAI()\n",
    "\n",
    "chain = (prompt | chat.bind(functions=[tool_direcionamento_suporte],\n",
    "                            function_call={\"name\":\"DirecionaSuporte\"})\n",
    "         | JsonOutputFunctionsParser())"
   ]
  },
  {
   "cell_type": "code",
   "execution_count": null,
   "metadata": {},
   "outputs": [],
   "source": [
    "solicitacao = solicitacoes[0]\n",
    "resposta = chain.invoke({\"input\": solicitacao})\n",
    "print(f\"Solicitação: {solicitacao}\")\n",
    "print(f\"Resposta: {resposta}\")"
   ]
  },
  {
   "cell_type": "code",
   "execution_count": null,
   "metadata": {},
   "outputs": [],
   "source": [
    "solicitacao = solicitacoes[3]\n",
    "resposta = chain.invoke({\"input\": solicitacao})\n",
    "print(f\"Solicitação: {solicitacao}\")\n",
    "print(f\"Resposta: {resposta}\")"
   ]
  },
  {
   "cell_type": "code",
   "execution_count": null,
   "metadata": {},
   "outputs": [],
   "source": [
    "solicitacao = solicitacoes[4]\n",
    "resposta = chain.invoke({\"input\": solicitacao})\n",
    "print(f\"Solicitação: {solicitacao}\")\n",
    "print(f\"Resposta: {resposta}\")"
   ]
  }
 ],
 "metadata": {
  "kernelspec": {
   "display_name": ".venv",
   "language": "python",
   "name": "python3"
  },
  "language_info": {
   "codemirror_mode": {
    "name": "ipython",
    "version": 3
   },
   "file_extension": ".py",
   "mimetype": "text/x-python",
   "name": "python",
   "nbconvert_exporter": "python",
   "pygments_lexer": "ipython3",
   "version": "3.12.7"
  }
 },
 "nbformat": 4,
 "nbformat_minor": 2
}
