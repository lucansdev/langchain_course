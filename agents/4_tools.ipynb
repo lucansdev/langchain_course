{
 "cells": [
  {
   "cell_type": "code",
   "execution_count": 21,
   "metadata": {},
   "outputs": [],
   "source": [
    "from langchain.agents import tool\n",
    "from langchain.pydantic_v1 import BaseModel,Field"
   ]
  },
  {
   "cell_type": "code",
   "execution_count": 22,
   "metadata": {},
   "outputs": [],
   "source": [
    "class CalcularDistanciaArgs(BaseModel):\n",
    "    cidade_origem: str = Field(description=\"CIdade de origem\",\n",
    "                               examples=[\"São Paulo\", \"Rio de Janeiro\"])\n",
    "    cidade_destino: str = Field(description=\"CIdade de destino\",\n",
    "                               examples=[\"Porto Alegre\", \"Curitiba\"])\n",
    "    \n",
    "@tool(args_schema=CalcularDistanciaArgs)\n",
    "def calcular_distancia(cidade_origem: str, cidade_destino: str):\n",
    "    \"\"\"Calcula a distância entre duas cidades\"\"\"\n",
    "    return f\"A distância entre {cidade_origem} e {cidade_destino} é de 300km\""
   ]
  },
  {
   "cell_type": "code",
   "execution_count": 23,
   "metadata": {},
   "outputs": [
    {
     "data": {
      "text/plain": [
       "'A distância entre são paulo e porto alegre é de 300km'"
      ]
     },
     "execution_count": 23,
     "metadata": {},
     "output_type": "execute_result"
    }
   ],
   "source": [
    "calcular_distancia.invoke({\"cidade_origem\":\"são paulo\",\n",
    "                           \"cidade_destino\":\"porto alegre\"})"
   ]
  },
  {
   "cell_type": "code",
   "execution_count": null,
   "metadata": {},
   "outputs": [
    {
     "data": {
      "text/plain": [
       "StructuredTool(name='realizar_calculo', description='realizar_calculo(numero1: float, numero2: float, operacao: str) - realiza operações matemáticas basícas', args_schema=<class '__main__.OperacaoMatematicaArgs'>, func=<function realizar_calculo at 0x7d2e9c0f4fe0>)"
      ]
     },
     "execution_count": 19,
     "metadata": {},
     "output_type": "execute_result"
    }
   ],
   "source": [
    "from langchain.agents import tool\n",
    "from langchain.pydantic_v1 import BaseModel,Field\n",
    "\n",
    "\n",
    "class OperacaoMatematicaArgs(BaseModel):\n",
    "    numero1:float = Field(description=\"primeiro numero\",examples=[10,5])\n",
    "    numero2:float = Field(description=\"segundo numero\",examples=[20,3])\n",
    "    operacao:str = Field(description=\"operação a ser realizada\",examples=[\"soma\",\"subtração\"])\n",
    "\n",
    "@tool(args_schema=OperacaoMatematicaArgs)\n",
    "def realizar_calculo(numero1:float,numero2:float,operacao:str):\n",
    "    \"\"\"realiza operações matemáticas basícas\"\"\"\n",
    "    if operacao == \"soma\":\n",
    "        return numero1 + numero2\n",
    "    elif operacao == \"subtração\":\n",
    "        return numero1 - numero2\n",
    "    else:\n",
    "        return \"operação invalída\"\n",
    "    \n",
    "realizar_calculo"
   ]
  },
  {
   "cell_type": "code",
   "execution_count": 20,
   "metadata": {},
   "outputs": [
    {
     "data": {
      "text/plain": [
       "30.0"
      ]
     },
     "execution_count": 20,
     "metadata": {},
     "output_type": "execute_result"
    }
   ],
   "source": [
    "realizar_calculo.invoke({\"numero1\":10,\n",
    "                         \"numero2\":20,\n",
    "                         \"operacao\":\"soma\"})"
   ]
  }
 ],
 "metadata": {
  "kernelspec": {
   "display_name": ".venv",
   "language": "python",
   "name": "python3"
  },
  "language_info": {
   "codemirror_mode": {
    "name": "ipython",
    "version": 3
   },
   "file_extension": ".py",
   "mimetype": "text/x-python",
   "name": "python",
   "nbconvert_exporter": "python",
   "pygments_lexer": "ipython3",
   "version": "3.12.7"
  }
 },
 "nbformat": 4,
 "nbformat_minor": 2
}
