{
 "cells": [
  {
   "cell_type": "code",
   "execution_count": 9,
   "metadata": {},
   "outputs": [],
   "source": [
    "import wikipedia\n",
    "from langchain.agents import tool\n",
    "import os \n",
    "import dotenv\n",
    "\n",
    "dotenv.load_dotenv()\n",
    "\n",
    "wikipedia.set_lang(\"pt\")"
   ]
  },
  {
   "cell_type": "code",
   "execution_count": 10,
   "metadata": {},
   "outputs": [],
   "source": [
    "@tool\n",
    "def busca_wikipedia(query:str):\n",
    "    \"\"\"busca dados na wikipedia e retorna resumos de paginas para a query\"\"\"\n",
    "    titulo_paginas = wikipedia.search(query)\n",
    "    resumos = []\n",
    "    for titulo in titulo_paginas[:3]:\n",
    "        try:\n",
    "            wiki_page = wikipedia.page(title=titulo,auto_suggest=True)\n",
    "            resumos.append(f\"titulo:{titulo}\\n resumo: {wiki_page.summary}\")\n",
    "        except:\n",
    "            pass\n",
    "\n",
    "\n",
    "    if not resumos:\n",
    "        return \"busca nao teve retorno\"\n",
    "    else:\n",
    "        return \"\\n\\n\".join(resumos)"
   ]
  },
  {
   "cell_type": "code",
   "execution_count": null,
   "metadata": {},
   "outputs": [],
   "source": [
    "from langchain.prompts import ChatPromptTemplate\n",
    "from langchain_openai import ChatOpenAI\n",
    "from langchain_core.utils.function_calling import convert_to_openai_function\n",
    "\n",
    "prompt = ChatPromptTemplate.from_messages([\n",
    "    (\"system\",\"voce e um assistente que sabe sobre futebol\"),\n",
    "    (\"user\",\"{input}\")\n",
    "])\n",
    "\n",
    "chat = ChatOpenAI(api_key=os.getenv(\"openaiKey\"))\n",
    "\n",
    "tols = [convert_to_openai_function(busca_wikipedia)]\n",
    "\n",
    "chain = prompt | chat.bind(functions=tols)\n",
    "\n"
   ]
  },
  {
   "cell_type": "code",
   "execution_count": 12,
   "metadata": {},
   "outputs": [
    {
     "data": {
      "text/plain": [
       "AIMessage(content='Tanto Ronaldinho quanto Messi são considerados excelentes jogadores de futebol, cada um com seu estilo único e conquistas impressionantes. Ronaldinho foi conhecido por sua habilidade técnica, dribles incríveis e criatividade em campo. Ele conquistou títulos importantes com o Barcelona, como a Liga dos Campeões da UEFA e o Campeonato Espanhol.\\n\\nPor outro lado, Messi é considerado um dos maiores jogadores de todos os tempos. Ele possui um incrível número de recordes e conquistas, incluindo múltiplos prêmios de Melhor Jogador do Mundo pela FIFA. Messi também conquistou diversos títulos com o Barcelona, incluindo a Liga dos Campeões da UEFA e vários títulos espanhóis.\\n\\nEm termos de impacto e legado no futebol, muitos consideram Messi como o melhor entre os dois. No entanto, a comparação entre os dois jogadores é subjetiva e depende das preferências pessoais de cada fã de futebol. Ambos são jogadores incríveis que deixaram sua marca na história do esporte.', response_metadata={'token_usage': {'completion_tokens': 251, 'prompt_tokens': 87, 'total_tokens': 338, 'completion_tokens_details': {'accepted_prediction_tokens': 0, 'audio_tokens': 0, 'reasoning_tokens': 0, 'rejected_prediction_tokens': 0}, 'prompt_tokens_details': {'audio_tokens': 0, 'cached_tokens': 0}}, 'model_name': 'gpt-3.5-turbo', 'system_fingerprint': None, 'finish_reason': 'stop', 'logprobs': None}, id='run-da4d4cfe-4d4c-4d73-96aa-d8771c06349b-0')"
      ]
     },
     "execution_count": 12,
     "metadata": {},
     "output_type": "execute_result"
    }
   ],
   "source": [
    "chain.invoke({\"input\":\"quem foi melhor ronaldinho ou messi?\"}) "
   ]
  }
 ],
 "metadata": {
  "kernelspec": {
   "display_name": ".venv",
   "language": "python",
   "name": "python3"
  },
  "language_info": {
   "codemirror_mode": {
    "name": "ipython",
    "version": 3
   },
   "file_extension": ".py",
   "mimetype": "text/x-python",
   "name": "python",
   "nbconvert_exporter": "python",
   "pygments_lexer": "ipython3",
   "version": "3.12.7"
  }
 },
 "nbformat": 4,
 "nbformat_minor": 2
}
