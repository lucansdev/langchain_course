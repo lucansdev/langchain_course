{
 "cells": [
  {
   "cell_type": "code",
   "execution_count": 1,
   "metadata": {},
   "outputs": [],
   "source": [
    "import pandas as pd\n",
    "from langchain_experimental.agents.agent_toolkits import create_pandas_dataframe_agent\n",
    "from langchain_openai import ChatOpenAI"
   ]
  },
  {
   "cell_type": "code",
   "execution_count": 3,
   "metadata": {},
   "outputs": [
    {
     "data": {
      "text/html": [
       "<div>\n",
       "<style scoped>\n",
       "    .dataframe tbody tr th:only-of-type {\n",
       "        vertical-align: middle;\n",
       "    }\n",
       "\n",
       "    .dataframe tbody tr th {\n",
       "        vertical-align: top;\n",
       "    }\n",
       "\n",
       "    .dataframe thead th {\n",
       "        text-align: right;\n",
       "    }\n",
       "</style>\n",
       "<table border=\"1\" class=\"dataframe\">\n",
       "  <thead>\n",
       "    <tr style=\"text-align: right;\">\n",
       "      <th></th>\n",
       "      <th>Source</th>\n",
       "      <th>Year</th>\n",
       "      <th>Mean</th>\n",
       "    </tr>\n",
       "  </thead>\n",
       "  <tbody>\n",
       "    <tr>\n",
       "      <th>0</th>\n",
       "      <td>gcag</td>\n",
       "      <td>1850</td>\n",
       "      <td>-0.4177</td>\n",
       "    </tr>\n",
       "    <tr>\n",
       "      <th>1</th>\n",
       "      <td>gcag</td>\n",
       "      <td>1851</td>\n",
       "      <td>-0.2333</td>\n",
       "    </tr>\n",
       "    <tr>\n",
       "      <th>2</th>\n",
       "      <td>gcag</td>\n",
       "      <td>1852</td>\n",
       "      <td>-0.2294</td>\n",
       "    </tr>\n",
       "    <tr>\n",
       "      <th>3</th>\n",
       "      <td>gcag</td>\n",
       "      <td>1853</td>\n",
       "      <td>-0.2704</td>\n",
       "    </tr>\n",
       "    <tr>\n",
       "      <th>4</th>\n",
       "      <td>gcag</td>\n",
       "      <td>1854</td>\n",
       "      <td>-0.2915</td>\n",
       "    </tr>\n",
       "  </tbody>\n",
       "</table>\n",
       "</div>"
      ],
      "text/plain": [
       "  Source  Year    Mean\n",
       "0   gcag  1850 -0.4177\n",
       "1   gcag  1851 -0.2333\n",
       "2   gcag  1852 -0.2294\n",
       "3   gcag  1853 -0.2704\n",
       "4   gcag  1854 -0.2915"
      ]
     },
     "execution_count": 3,
     "metadata": {},
     "output_type": "execute_result"
    }
   ],
   "source": [
    "df_temp = pd.read_csv(\"https://datahub.io/core/global-temp/r/0.csv\")\n",
    "\n",
    "df_temp.head()"
   ]
  },
  {
   "cell_type": "code",
   "execution_count": 4,
   "metadata": {},
   "outputs": [],
   "source": [
    "import os\n",
    "import dotenv\n",
    "\n",
    "dotenv.load_dotenv()\n",
    "\n",
    "chat = ChatOpenAI(api_key=os.getenv(\"openaiKey\"))\n",
    "\n",
    "agent_temp = create_pandas_dataframe_agent(\n",
    "    chat,\n",
    "    df_temp,\n",
    "    verbose=True,\n",
    "    agent_type='tool-calling'\n",
    "\n",
    ")"
   ]
  },
  {
   "cell_type": "code",
   "execution_count": 5,
   "metadata": {},
   "outputs": [
    {
     "name": "stdout",
     "output_type": "stream",
     "text": [
      "\n",
      "\n",
      "\u001b[1m> Entering new AgentExecutor chain...\u001b[0m\n",
      "\u001b[32;1m\u001b[1;3m\n",
      "Invoking: `python_repl_ast` with `{'query': \"df[df['Year'] == df['Year'].max()]['Mean'].values[0]\"}`\n",
      "\n",
      "\n",
      "\u001b[0m\u001b[36;1m\u001b[1;3m1.1755\u001b[0m\u001b[32;1m\u001b[1;3mA temperatura média global do último ano é de 1.1755.\u001b[0m\n",
      "\n",
      "\u001b[1m> Finished chain.\u001b[0m\n"
     ]
    }
   ],
   "source": [
    "resposta = agent_temp.invoke({\"input\":\"qual a temperatura média global do ultimo ano?\"})"
   ]
  },
  {
   "cell_type": "code",
   "execution_count": 3,
   "metadata": {},
   "outputs": [
    {
     "data": {
      "text/plain": [
       "True"
      ]
     },
     "execution_count": 3,
     "metadata": {},
     "output_type": "execute_result"
    }
   ],
   "source": [
    "from langchain_community.utilities.sql_database import SQLDatabase\n",
    "from langchain_community.agent_toolkits.sql.base import create_sql_agent\n",
    "from langchain_openai import ChatOpenAI\n",
    "import os\n",
    "import dotenv\n",
    "\n",
    "dotenv.load_dotenv()"
   ]
  },
  {
   "cell_type": "code",
   "execution_count": 4,
   "metadata": {},
   "outputs": [],
   "source": [
    "db_sakila = SQLDatabase.from_uri(\"sqlite:///sakila_master.db\")\n",
    "\n",
    "chat = ChatOpenAI(api_key=os.getenv(\"openaiKey\"))\n",
    "\n",
    "agent_executor_sakila = create_sql_agent(\n",
    "    chat,\n",
    "    db=db_sakila,\n",
    "    agent_type=\"tool-calling\",\n",
    "    verbose=True\n",
    ")"
   ]
  },
  {
   "cell_type": "code",
   "execution_count": 6,
   "metadata": {},
   "outputs": [
    {
     "name": "stdout",
     "output_type": "stream",
     "text": [
      "\n",
      "\n",
      "\u001b[1m> Entering new SQL Agent Executor chain...\u001b[0m\n",
      "\u001b[32;1m\u001b[1;3m\n",
      "Invoking: `sql_db_list_tables` with `{}`\n",
      "\n",
      "\n",
      "\u001b[0m\u001b[38;5;200m\u001b[1;3mactor, address, category, city, country, customer, film, film_actor, film_category, film_text, inventory, language, payment, rental, staff, store\u001b[0m\u001b[32;1m\u001b[1;3m\n",
      "Invoking: `sql_db_schema` with `{'table_names': 'film'}`\n",
      "\n",
      "\n",
      "\u001b[0m\u001b[33;1m\u001b[1;3m\n",
      "CREATE TABLE film (\n",
      "\tfilm_id INTEGER NOT NULL, \n",
      "\ttitle VARCHAR(255) NOT NULL, \n",
      "\tdescription TEXT DEFAULT NULL, \n",
      "\trelease_year VARCHAR(4) DEFAULT NULL, \n",
      "\tlanguage_id SMALLINT NOT NULL, \n",
      "\toriginal_language_id SMALLINT DEFAULT NULL, \n",
      "\trental_duration SMALLINT DEFAULT 3 NOT NULL, \n",
      "\trental_rate DECIMAL(4, 2) DEFAULT 4.99 NOT NULL, \n",
      "\tlength SMALLINT DEFAULT NULL, \n",
      "\treplacement_cost DECIMAL(5, 2) DEFAULT 19.99 NOT NULL, \n",
      "\trating VARCHAR(10) DEFAULT 'G', \n",
      "\tspecial_features VARCHAR(100) DEFAULT NULL, \n",
      "\tlast_update TIMESTAMP NOT NULL, \n",
      "\tPRIMARY KEY (film_id), \n",
      "\tCONSTRAINT fk_film_language FOREIGN KEY(language_id) REFERENCES language (language_id), \n",
      "\tCONSTRAINT fk_film_language_original FOREIGN KEY(original_language_id) REFERENCES language (language_id), \n",
      "\tCONSTRAINT \"CHECK_special_rating\" CHECK (rating in ('G','PG','PG-13','R','NC-17'))\n",
      ")\n",
      "\n",
      "/*\n",
      "3 rows from film table:\n",
      "film_id\ttitle\tdescription\trelease_year\tlanguage_id\toriginal_language_id\trental_duration\trental_rate\tlength\treplacement_cost\trating\tspecial_features\tlast_update\n",
      "1\tACADEMY DINOSAUR\tA Epic Drama of a Feminist And a Mad Scientist who must Battle a Teacher in The Canadian Rockies\t2006\t1\tNone\t6\t0.99\t86\t20.99\tPG\tDeleted Scenes,Behind the Scenes\t2020-12-23 07:12:31\n",
      "2\tACE GOLDFINGER\tA Astounding Epistle of a Database Administrator And a Explorer who must Find a Car in Ancient China\t2006\t1\tNone\t3\t4.99\t48\t12.99\tG\tTrailers,Deleted Scenes\t2020-12-23 07:12:31\n",
      "3\tADAPTATION HOLES\tA Astounding Reflection of a Lumberjack And a Car who must Sink a Lumberjack in A Baloon Factory\t2006\t1\tNone\t7\t2.99\t50\t18.99\tNC-17\tTrailers,Deleted Scenes\t2020-12-23 07:12:31\n",
      "*/\u001b[0m"
     ]
    },
    {
     "name": "stderr",
     "output_type": "stream",
     "text": [
      "/home/lucas/Área de Trabalho/llm_curso/.venv/lib/python3.12/site-packages/langchain_community/utilities/sql_database.py:313: SAWarning: Cannot correctly sort tables; there are unresolvable cycles between tables \"staff, store\", which is usually caused by mutually dependent foreign key constraints.  Foreign key constraints involving these tables will not be considered; this warning may raise an error in a future release.\n",
      "  metadata_table_names = [tbl.name for tbl in self._metadata.sorted_tables]\n",
      "/home/lucas/Área de Trabalho/llm_curso/.venv/lib/python3.12/site-packages/langchain_community/utilities/sql_database.py:325: SAWarning: Cannot correctly sort tables; there are unresolvable cycles between tables \"staff, store\", which is usually caused by mutually dependent foreign key constraints.  Foreign key constraints involving these tables will not be considered; this warning may raise an error in a future release.\n",
      "  for tbl in self._metadata.sorted_tables\n"
     ]
    },
    {
     "name": "stdout",
     "output_type": "stream",
     "text": [
      "\u001b[32;1m\u001b[1;3m\n",
      "Invoking: `sql_db_query` with `{'query': 'SELECT title, rental_duration, rental_rate, replacement_cost FROM film ORDER BY rental_duration DESC LIMIT 10'}`\n",
      "\n",
      "\n",
      "\u001b[0m\u001b[36;1m\u001b[1;3m[('ADAPTATION HOLES', 7, 2.99, 18.99), ('ANONYMOUS HUMAN', 7, 0.99, 12.99), ('ARGONAUTS TOWN', 7, 0.99, 12.99), ('BIKINI BORROWERS', 7, 4.99, 26.99), ('BLACKOUT PRIVATE', 7, 2.99, 12.99), ('BLANKET BEVERLY', 7, 2.99, 21.99), ('BOILED DARES', 7, 4.99, 13.99), ('BOONDOCK BALLROOM', 7, 0.99, 14.99), ('BORN SPINAL', 7, 4.99, 17.99), ('BORROWERS BEDAZZLED', 7, 0.99, 22.99)]\u001b[0m\u001b[32;1m\u001b[1;3mThe movies with the longest rental duration are:\n",
      "\n",
      "1. Title: ADAPTATION HOLES, Rental Duration: 7 days, Rental Rate: $2.99, Replacement Cost: $18.99\n",
      "2. Title: ANONYMOUS HUMAN, Rental Duration: 7 days, Rental Rate: $0.99, Replacement Cost: $12.99\n",
      "3. Title: ARGONAUTS TOWN, Rental Duration: 7 days, Rental Rate: $0.99, Replacement Cost: $12.99\n",
      "4. Title: BIKINI BORROWERS, Rental Duration: 7 days, Rental Rate: $4.99, Replacement Cost: $26.99\n",
      "5. Title: BLACKOUT PRIVATE, Rental Duration: 7 days, Rental Rate: $2.99, Replacement Cost: $12.99\n",
      "\n",
      "And so on, up to 10 results.\u001b[0m\n",
      "\n",
      "\u001b[1m> Finished chain.\u001b[0m\n",
      "{'input': 'What are the most rented movies??', 'output': 'The movies with the longest rental duration are:\\n\\n1. Title: ADAPTATION HOLES, Rental Duration: 7 days, Rental Rate: $2.99, Replacement Cost: $18.99\\n2. Title: ANONYMOUS HUMAN, Rental Duration: 7 days, Rental Rate: $0.99, Replacement Cost: $12.99\\n3. Title: ARGONAUTS TOWN, Rental Duration: 7 days, Rental Rate: $0.99, Replacement Cost: $12.99\\n4. Title: BIKINI BORROWERS, Rental Duration: 7 days, Rental Rate: $4.99, Replacement Cost: $26.99\\n5. Title: BLACKOUT PRIVATE, Rental Duration: 7 days, Rental Rate: $2.99, Replacement Cost: $12.99\\n\\nAnd so on, up to 10 results.'}\n"
     ]
    }
   ],
   "source": [
    "response = agent_executor_sakila.invoke({\"input\":\"What are the most rented movies??\"})\n",
    "print(response)"
   ]
  },
  {
   "cell_type": "code",
   "execution_count": 1,
   "metadata": {},
   "outputs": [],
   "source": [
    "from langchain_community.agent_toolkits.sql.base import SQLDatabaseToolkit,create_sql_agent"
   ]
  },
  {
   "cell_type": "code",
   "execution_count": 8,
   "metadata": {},
   "outputs": [
    {
     "data": {
      "text/plain": [
       "[QuerySQLDataBaseTool(description=\"Input to this tool is a detailed and correct SQL query, output is a result from the database. If the query is not correct, an error message will be returned. If an error is returned, rewrite the query, check the query, and try again. If you encounter an issue with Unknown column 'xxxx' in 'field list', use sql_db_schema to query the correct table fields.\", db=<langchain_community.utilities.sql_database.SQLDatabase object at 0x7b52dd7b00e0>),\n",
       " InfoSQLDatabaseTool(description='Input to this tool is a comma-separated list of tables, output is the schema and sample rows for those tables. Be sure that the tables actually exist by calling sql_db_list_tables first! Example Input: table1, table2, table3', db=<langchain_community.utilities.sql_database.SQLDatabase object at 0x7b52dd7b00e0>),\n",
       " ListSQLDatabaseTool(db=<langchain_community.utilities.sql_database.SQLDatabase object at 0x7b52dd7b00e0>),\n",
       " QuerySQLCheckerTool(description='Use this tool to double check if your query is correct before executing it. Always use this tool before executing a query with sql_db_query!', db=<langchain_community.utilities.sql_database.SQLDatabase object at 0x7b52dd7b00e0>, llm=ChatOpenAI(client=<openai.resources.chat.completions.Completions object at 0x7b52dd3e9f70>, async_client=<openai.resources.chat.completions.AsyncCompletions object at 0x7b52dd3eb350>, openai_api_key=SecretStr('**********'), openai_proxy=''), llm_chain=LLMChain(prompt=PromptTemplate(input_variables=['dialect', 'query'], template='\\n{query}\\nDouble check the {dialect} query above for common mistakes, including:\\n- Using NOT IN with NULL values\\n- Using UNION when UNION ALL should have been used\\n- Using BETWEEN for exclusive ranges\\n- Data type mismatch in predicates\\n- Properly quoting identifiers\\n- Using the correct number of arguments for functions\\n- Casting to the correct data type\\n- Using the proper columns for joins\\n\\nIf there are any of the above mistakes, rewrite the query. If there are no mistakes, just reproduce the original query.\\n\\nOutput the final SQL query only.\\n\\nSQL Query: '), llm=ChatOpenAI(client=<openai.resources.chat.completions.Completions object at 0x7b52dd3e9f70>, async_client=<openai.resources.chat.completions.AsyncCompletions object at 0x7b52dd3eb350>, openai_api_key=SecretStr('**********'), openai_proxy='')))]"
      ]
     },
     "execution_count": 8,
     "metadata": {},
     "output_type": "execute_result"
    }
   ],
   "source": [
    "sql = SQLDatabaseToolkit(db=db_sakila,llm=chat)\n",
    "\n",
    "sql.get_tools()"
   ]
  }
 ],
 "metadata": {
  "kernelspec": {
   "display_name": ".venv",
   "language": "python",
   "name": "python3"
  },
  "language_info": {
   "codemirror_mode": {
    "name": "ipython",
    "version": 3
   },
   "file_extension": ".py",
   "mimetype": "text/x-python",
   "name": "python",
   "nbconvert_exporter": "python",
   "pygments_lexer": "ipython3",
   "version": "3.12.7"
  }
 },
 "nbformat": 4,
 "nbformat_minor": 2
}
