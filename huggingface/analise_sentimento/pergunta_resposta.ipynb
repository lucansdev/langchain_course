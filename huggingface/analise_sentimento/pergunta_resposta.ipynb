{
 "cells": [
  {
   "cell_type": "code",
   "execution_count": 2,
   "metadata": {},
   "outputs": [],
   "source": [
    "from transformers import pipeline"
   ]
  },
  {
   "cell_type": "code",
   "execution_count": 3,
   "metadata": {},
   "outputs": [
    {
     "name": "stderr",
     "output_type": "stream",
     "text": [
      "Device set to use cuda:0\n"
     ]
    }
   ],
   "source": [
    "model_qa = pipeline(\"question-answering\",model=\"deepset/roberta-base-squad2\")"
   ]
  },
  {
   "cell_type": "code",
   "execution_count": 4,
   "metadata": {},
   "outputs": [],
   "source": [
    "context = \"\"\"\n",
    "sarah decided to spend her saturday afternoon at the local farmers\n",
    "market, where she enjoyed sampling fresh produce and handamad crafts\n",
    "\"\"\"\n",
    "\n",
    "question = \"what activity did sarah choose for her saturday afternoon?\""
   ]
  },
  {
   "cell_type": "code",
   "execution_count": 5,
   "metadata": {},
   "outputs": [
    {
     "data": {
      "text/plain": [
       "{'score': 0.20902179181575775,\n",
       " 'start': 60,\n",
       " 'end': 74,\n",
       " 'answer': 'farmers\\nmarket'}"
      ]
     },
     "execution_count": 5,
     "metadata": {},
     "output_type": "execute_result"
    }
   ],
   "source": [
    "model_qa(question=question,context=context)"
   ]
  },
  {
   "cell_type": "code",
   "execution_count": 6,
   "metadata": {},
   "outputs": [],
   "source": [
    "context2 = \"\"\"\n",
    "    After weeks of planing, the team finally launched their new mobile app,\n",
    "    which aims to help users track their fitness goals and connect with \n",
    "    personal trainers\n",
    "\"\"\"\n",
    "question2 = \"What is the main purpose of the mobile app that the team launched?\""
   ]
  },
  {
   "cell_type": "code",
   "execution_count": 7,
   "metadata": {},
   "outputs": [
    {
     "data": {
      "text/plain": [
       "{'score': 0.19365006685256958,\n",
       " 'start': 106,\n",
       " 'end': 131,\n",
       " 'answer': 'track their fitness goals'}"
      ]
     },
     "execution_count": 7,
     "metadata": {},
     "output_type": "execute_result"
    }
   ],
   "source": [
    "model_qa(question=question2, context=context2)"
   ]
  },
  {
   "cell_type": "code",
   "execution_count": 8,
   "metadata": {},
   "outputs": [],
   "source": [
    "import pandas as pd"
   ]
  },
  {
   "cell_type": "code",
   "execution_count": 9,
   "metadata": {},
   "outputs": [
    {
     "data": {
      "text/html": [
       "<div>\n",
       "<style scoped>\n",
       "    .dataframe tbody tr th:only-of-type {\n",
       "        vertical-align: middle;\n",
       "    }\n",
       "\n",
       "    .dataframe tbody tr th {\n",
       "        vertical-align: top;\n",
       "    }\n",
       "\n",
       "    .dataframe thead th {\n",
       "        text-align: right;\n",
       "    }\n",
       "</style>\n",
       "<table border=\"1\" class=\"dataframe\">\n",
       "  <thead>\n",
       "    <tr style=\"text-align: right;\">\n",
       "      <th></th>\n",
       "      <th>question</th>\n",
       "      <th>answer</th>\n",
       "    </tr>\n",
       "  </thead>\n",
       "  <tbody>\n",
       "    <tr>\n",
       "      <th>0</th>\n",
       "      <td>How do I unlock new levels in the game?</td>\n",
       "      <td>To unlock new levels, you need to complete the...</td>\n",
       "    </tr>\n",
       "    <tr>\n",
       "      <th>1</th>\n",
       "      <td>What are the system requirements for running t...</td>\n",
       "      <td>The system requirements vary by game, but gene...</td>\n",
       "    </tr>\n",
       "    <tr>\n",
       "      <th>2</th>\n",
       "      <td>How can I customize my character in the game?</td>\n",
       "      <td>You can customize your character by accessing ...</td>\n",
       "    </tr>\n",
       "    <tr>\n",
       "      <th>3</th>\n",
       "      <td>What should I do if I encounter a bug in the g...</td>\n",
       "      <td>If you encounter a bug, report it to the game'...</td>\n",
       "    </tr>\n",
       "    <tr>\n",
       "      <th>4</th>\n",
       "      <td>How can I earn in-game currency?</td>\n",
       "      <td>In-game currency can typically be earned by co...</td>\n",
       "    </tr>\n",
       "    <tr>\n",
       "      <th>5</th>\n",
       "      <td>Is there a multiplayer mode in the game?</td>\n",
       "      <td>Yes, many games offer a multiplayer mode where...</td>\n",
       "    </tr>\n",
       "    <tr>\n",
       "      <th>6</th>\n",
       "      <td>How do I save my progress in the game?</td>\n",
       "      <td>Progress is usually saved automatically throug...</td>\n",
       "    </tr>\n",
       "    <tr>\n",
       "      <th>7</th>\n",
       "      <td>Can I transfer my game progress to a new device?</td>\n",
       "      <td>Many games support cloud saving, which allows ...</td>\n",
       "    </tr>\n",
       "    <tr>\n",
       "      <th>8</th>\n",
       "      <td>What are achievements and how do I earn them?</td>\n",
       "      <td>Achievements are special goals or milestones s...</td>\n",
       "    </tr>\n",
       "    <tr>\n",
       "      <th>9</th>\n",
       "      <td>How do I access game settings or options?</td>\n",
       "      <td>To access game settings, go to the main menu a...</td>\n",
       "    </tr>\n",
       "  </tbody>\n",
       "</table>\n",
       "</div>"
      ],
      "text/plain": [
       "                                            question  \\\n",
       "0            How do I unlock new levels in the game?   \n",
       "1  What are the system requirements for running t...   \n",
       "2      How can I customize my character in the game?   \n",
       "3  What should I do if I encounter a bug in the g...   \n",
       "4                   How can I earn in-game currency?   \n",
       "5           Is there a multiplayer mode in the game?   \n",
       "6             How do I save my progress in the game?   \n",
       "7   Can I transfer my game progress to a new device?   \n",
       "8      What are achievements and how do I earn them?   \n",
       "9          How do I access game settings or options?   \n",
       "\n",
       "                                              answer  \n",
       "0  To unlock new levels, you need to complete the...  \n",
       "1  The system requirements vary by game, but gene...  \n",
       "2  You can customize your character by accessing ...  \n",
       "3  If you encounter a bug, report it to the game'...  \n",
       "4  In-game currency can typically be earned by co...  \n",
       "5  Yes, many games offer a multiplayer mode where...  \n",
       "6  Progress is usually saved automatically throug...  \n",
       "7  Many games support cloud saving, which allows ...  \n",
       "8  Achievements are special goals or milestones s...  \n",
       "9  To access game settings, go to the main menu a...  "
      ]
     },
     "execution_count": 9,
     "metadata": {},
     "output_type": "execute_result"
    }
   ],
   "source": [
    "df_questions = pd.read_csv(\"dados/games_faq.csv\")\n",
    "df_questions"
   ]
  },
  {
   "cell_type": "code",
   "execution_count": 10,
   "metadata": {},
   "outputs": [],
   "source": [
    "def question_anwswer(question):\n",
    "    context = df_questions[df_questions[\"question\"] == question]\n",
    "    result = model_qa(question=question, context=context[\"answer\"].values[0])\n",
    "    return result[\"answer\"]\n",
    "    # return context[\"answer\"].values[0]"
   ]
  },
  {
   "cell_type": "code",
   "execution_count": 11,
   "metadata": {},
   "outputs": [
    {
     "data": {
      "text/plain": [
       "'go to the main menu'"
      ]
     },
     "execution_count": 11,
     "metadata": {},
     "output_type": "execute_result"
    }
   ],
   "source": [
    "question_anwswer(\"How do I access game settings or options?\")"
   ]
  },
  {
   "cell_type": "code",
   "execution_count": 12,
   "metadata": {},
   "outputs": [],
   "source": [
    "import gradio as gd"
   ]
  },
  {
   "cell_type": "code",
   "execution_count": 13,
   "metadata": {},
   "outputs": [],
   "source": [
    "app = gd.Interface(\n",
    "    fn=question_anwswer,\n",
    "    inputs=gd.Dropdown(choices=list(df_questions[\"question\"]), label=\"Selecione a Pergunta\"),\n",
    "    outputs=\"text\",\n",
    "    title=\"FAQ Games\",\n",
    "    description=\"Selecione uma pergunta do FAQ\"\n",
    ")"
   ]
  },
  {
   "cell_type": "code",
   "execution_count": 14,
   "metadata": {},
   "outputs": [
    {
     "name": "stdout",
     "output_type": "stream",
     "text": [
      "* Running on local URL:  http://127.0.0.1:7860\n",
      "* Running on public URL: https://50291ae831fcb89dd2.gradio.live\n",
      "\n",
      "This share link expires in 72 hours. For free permanent hosting and GPU upgrades, run `gradio deploy` from the terminal in the working directory to deploy to Hugging Face Spaces (https://huggingface.co/spaces)\n"
     ]
    },
    {
     "data": {
      "text/html": [
       "<div><iframe src=\"https://50291ae831fcb89dd2.gradio.live\" width=\"100%\" height=\"500\" allow=\"autoplay; camera; microphone; clipboard-read; clipboard-write;\" frameborder=\"0\" allowfullscreen></iframe></div>"
      ],
      "text/plain": [
       "<IPython.core.display.HTML object>"
      ]
     },
     "metadata": {},
     "output_type": "display_data"
    },
    {
     "data": {
      "text/plain": []
     },
     "execution_count": 14,
     "metadata": {},
     "output_type": "execute_result"
    },
    {
     "name": "stdout",
     "output_type": "stream",
     "text": [
      "Created dataset file at: .gradio/flagged/dataset1.csv\n"
     ]
    }
   ],
   "source": [
    "app.launch(share=True)"
   ]
  }
 ],
 "metadata": {
  "kernelspec": {
   "display_name": ".venv",
   "language": "python",
   "name": "python3"
  },
  "language_info": {
   "codemirror_mode": {
    "name": "ipython",
    "version": 3
   },
   "file_extension": ".py",
   "mimetype": "text/x-python",
   "name": "python",
   "nbconvert_exporter": "python",
   "pygments_lexer": "ipython3",
   "version": "3.12.7"
  }
 },
 "nbformat": 4,
 "nbformat_minor": 2
}
