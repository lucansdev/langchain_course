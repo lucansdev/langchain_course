{
 "cells": [
  {
   "cell_type": "code",
   "execution_count": 1,
   "metadata": {},
   "outputs": [],
   "source": [
    "from langchain_community.document_loaders.pdf import PyPDFLoader\n",
    "from langchain_text_splitters import RecursiveCharacterTextSplitter\n"
   ]
  },
  {
   "cell_type": "code",
   "execution_count": 2,
   "metadata": {},
   "outputs": [],
   "source": [
    "caminho = \"apostila.pdf\"\n",
    "loader = PyPDFLoader(caminho)\n",
    "paginas = loader.load()"
   ]
  },
  {
   "cell_type": "code",
   "execution_count": 3,
   "metadata": {},
   "outputs": [],
   "source": [
    "recur_split = RecursiveCharacterTextSplitter(\n",
    "    chunk_size=500,\n",
    "    chunk_overlap =50,\n",
    "    separators=[\"\\n\\n\",\"\\n\",\"\",\".\",\" \"]\n",
    ")\n",
    "\n",
    "documents = recur_split.split_documents(paginas)"
   ]
  },
  {
   "cell_type": "code",
   "execution_count": 4,
   "metadata": {},
   "outputs": [],
   "source": [
    "from langchain_openai import OpenAIEmbeddings\n",
    "import os \n",
    "import dotenv\n",
    "\n",
    "dotenv.load_dotenv()\n",
    "\n",
    "embedding_model = OpenAIEmbeddings(api_key=os.getenv(\"openaiKey\"))\n",
    "\n"
   ]
  },
  {
   "cell_type": "code",
   "execution_count": 5,
   "metadata": {},
   "outputs": [],
   "source": [
    "from langchain_chroma import Chroma\n",
    "\n",
    "diretorio = \"chroma_vectorstore\"\n",
    "\n",
    "vector_store = Chroma.from_documents(documents=documents,embedding=embedding_model,persist_directory=diretorio)\n",
    "\n"
   ]
  },
  {
   "cell_type": "code",
   "execution_count": 6,
   "metadata": {},
   "outputs": [
    {
     "data": {
      "text/plain": [
       "99"
      ]
     },
     "execution_count": 6,
     "metadata": {},
     "output_type": "execute_result"
    }
   ],
   "source": [
    "vector_store._collection.count()"
   ]
  },
  {
   "cell_type": "code",
   "execution_count": 7,
   "metadata": {},
   "outputs": [],
   "source": [
    "vector_store = Chroma(embedding_function=embedding_model,persist_directory=diretorio)"
   ]
  },
  {
   "cell_type": "code",
   "execution_count": 8,
   "metadata": {},
   "outputs": [],
   "source": [
    "pergunta = \"principais metodos para manipulação de strings?\"\n",
    "\n",
    "docs = vector_store.similarity_search(pergunta,k=5)\n",
    "\n"
   ]
  },
  {
   "cell_type": "code",
   "execution_count": 9,
   "metadata": {},
   "outputs": [
    {
     "name": "stdout",
     "output_type": "stream",
     "text": [
      "7 \n",
      " 3.2 Manipulação  de strings  \n",
      " \n",
      "Em Python, existem vária s funções (métodos) para manipular strings .  Na tabela a seguir  são \n",
      "apresentados os principais  métodos para a manipulação  as strings . \n",
      " \n",
      "Tabela 2 - Manipulação  de strings  \n",
      " \n",
      "Méto do  Descrição   Exemplo  \n",
      " \n",
      "len()  Retorna o tamanho d a string . teste = “Apostila de Python”  \n",
      "len(teste)  \n",
      "18 \n",
      " \n",
      "capitalize()  Retorna a string com a  primeira letra maiúscula  a = \"python\"  \n",
      "a.capitalize () \n",
      "'Python'\n",
      "===={'page': 9, 'source': 'apostila.pdf'}\n",
      "\n",
      "3.1 Concatenação d e strings  ................................ ................................ ........................  6 \n",
      "3.2 Manipulação de strings  ................................ ................................ ..........................  7 \n",
      "3.3 Fatiamento de strings  ................................ ................................ ............................  8\n",
      "===={'page': 1, 'source': 'apostila.pdf'}\n",
      "\n",
      "3.4 Exercícios: strings  ................................ ................................ ................................ .. 8 \n",
      "4. NÚMEROS  ................................ ................................ ................................ ...................  9 \n",
      "4.1 Operadores numéricos  ................................ ................................ ..........................  9\n",
      "===={'page': 1, 'source': 'apostila.pdf'}\n",
      "\n",
      "5.1 Funções para manipulação de  listas \n",
      " \n",
      "A lista é uma estrutura mutável , ou seja, ela pode  ser modificada . Na tabela a seguir estão \n",
      "algumas funções utilizadas para  manipular listas .\n",
      "===={'page': 12, 'source': 'apostila.pdf'}\n",
      "\n",
      "programas escritos . Isto ocorre porque , em outras linguagens , é muito comum o uso  excess ivo de \n",
      "marcações (p onto ou ponto e vírgula ), de marcadores ( chaves, colchetes ou parêntes es) e de \n",
      "palavras especiais  (begin/end), o que torna mais  difícil a leitura e compreensão dos programas. Já \n",
      "em Python, o uso desses recursos é reduzido, deixando  a linguagem visualmente mais limpa, de \n",
      "fácil compreensão e leitura.\n",
      "===={'page': 4, 'source': 'apostila.pdf'}\n",
      "\n"
     ]
    }
   ],
   "source": [
    "for doc in docs:\n",
    "    print(doc.page_content)\n",
    "    print(f\"===={doc.metadata}\\n\")"
   ]
  }
 ],
 "metadata": {
  "kernelspec": {
   "display_name": ".venv",
   "language": "python",
   "name": "python3"
  },
  "language_info": {
   "codemirror_mode": {
    "name": "ipython",
    "version": 3
   },
   "file_extension": ".py",
   "mimetype": "text/x-python",
   "name": "python",
   "nbconvert_exporter": "python",
   "pygments_lexer": "ipython3",
   "version": "3.12.7"
  }
 },
 "nbformat": 4,
 "nbformat_minor": 2
}
