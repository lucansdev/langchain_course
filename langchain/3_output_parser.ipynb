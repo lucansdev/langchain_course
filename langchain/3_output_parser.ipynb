{
 "cells": [
  {
   "cell_type": "code",
   "execution_count": 3,
   "metadata": {},
   "outputs": [],
   "source": [
    "feedback_produto = \"\"\"\n",
    "O XYZ Pro é um smartphone que se destaca pelo seu desempenho equilibrado,\n",
    "oferecendo um processador eficiente, uma tela de alta qualidade e um bom conjunto de câmeras.\n",
    "Sua bateria tem autonomia satisfatória, suportando um dia de uso moderado. \n",
    "O design é moderno, mas pode não inovar muito em relação aos concorrentes.\n",
    "A interface do sistema é fluida, embora possa vir com alguns aplicativos pré-instalados desnecessários. \n",
    "No geral, é uma opção sólida para quem busca um aparelho confiável sem pagar um preço premium, \n",
    "mas pode não surpreender usuários mais exigentes.\n",
    "\"\"\""
   ]
  },
  {
   "cell_type": "code",
   "execution_count": 4,
   "metadata": {},
   "outputs": [],
   "source": [
    "from langchain.prompts import ChatPromptTemplate\n",
    "\n",
    "review_template = ChatPromptTemplate.from_template(\"\"\"\n",
    "para o texto a seguir,extraia as seguintes informações:\n",
    "produto: nome do produto mencionado no texto.\n",
    "caracteristicas_positivas: liste todas as carecteristicas positivas mencionadas sobre o produto.\n",
    "caracteristicas_negativas: liste todas as caracteristicas negativas mencionadas sobre o produto.\n",
    "recomendaçãp: o cliente recomenda o produto? responda True para sim ou False para não.\n",
    "\n",
    "texto: {review}\n",
    "retorne a resposta no formato JSON.                                                                                                                                                                                                                                                             \n",
    "\"\"\")"
   ]
  },
  {
   "cell_type": "code",
   "execution_count": 5,
   "metadata": {},
   "outputs": [
    {
     "name": "stdout",
     "output_type": "stream",
     "text": [
      "[HumanMessage(content='\\npara o texto a seguir,extraia as seguintes informações:\\nproduto: nome do produto mencionado no texto.\\ncaracteristicas_positivas: liste todas as carecteristicas positivas mencionadas sobre o produto.\\ncaracteristicas_negativas: liste todas as caracteristicas negativas mencionadas sobre o produto.\\nrecomendaçãp: o cliente recomenda o produto? responda True para sim ou False para não.\\n\\ntexto: \\nO XYZ Pro é um smartphone que se destaca pelo seu desempenho equilibrado,\\noferecendo um processador eficiente, uma tela de alta qualidade e um bom conjunto de câmeras.\\nSua bateria tem autonomia satisfatória, suportando um dia de uso moderado. \\nO design é moderno, mas pode não inovar muito em relação aos concorrentes.\\nA interface do sistema é fluida, embora possa vir com alguns aplicativos pré-instalados desnecessários. \\nNo geral, é uma opção sólida para quem busca um aparelho confiável sem pagar um preço premium, \\nmas pode não surpreender usuários mais exigentes.\\n\\nretorne a resposta no formato JSON.                                                                                                                                                                                                                                                             \\n')]\n"
     ]
    }
   ],
   "source": [
    "print(review_template.format_messages(review=feedback_produto))"
   ]
  },
  {
   "cell_type": "code",
   "execution_count": 6,
   "metadata": {},
   "outputs": [
    {
     "data": {
      "text/plain": [
       "AIMessage(content='{\\n    \"produto\": \"XYZ Pro\",\\n    \"caracteristicas_positivas\": [\\n        \"Desempenho equilibrado\",\\n        \"Processador eficiente\",\\n        \"Tela de alta qualidade\",\\n        \"Bom conjunto de câmeras\",\\n        \"Bateria com autonomia satisfatória\",\\n        \"Design moderno\"\\n    ],\\n    \"caracteristicas_negativas\": [\\n        \"Pouca inovação em relação aos concorrentes\",\\n        \"Alguns aplicativos pré-instalados desnecessários\",\\n        \"Não surpreende usuários mais exigentes\"\\n    ],\\n    \"recomendacao\": false\\n}', response_metadata={'token_usage': {'completion_tokens': 139, 'prompt_tokens': 270, 'total_tokens': 409, 'completion_tokens_details': {'accepted_prediction_tokens': 0, 'audio_tokens': 0, 'reasoning_tokens': 0, 'rejected_prediction_tokens': 0}, 'prompt_tokens_details': {'audio_tokens': 0, 'cached_tokens': 0}}, 'model_name': 'gpt-3.5-turbo', 'system_fingerprint': None, 'finish_reason': 'stop', 'logprobs': None}, id='run-78763480-6009-4606-9759-971af01f6d07-0')"
      ]
     },
     "execution_count": 6,
     "metadata": {},
     "output_type": "execute_result"
    }
   ],
   "source": [
    "from langchain_openai.chat_models import ChatOpenAI\n",
    "import os\n",
    "import dotenv\n",
    "\n",
    "dotenv.load_dotenv()\n",
    "\n",
    "chat = ChatOpenAI(api_key=os.getenv(\"openaiKey\"))\n",
    "chat.invoke(review_template.format_messages(review=feedback_produto))"
   ]
  },
  {
   "cell_type": "code",
   "execution_count": 7,
   "metadata": {},
   "outputs": [],
   "source": [
    "from langchain.output_parsers import ResponseSchema\n",
    "from langchain.output_parsers import StructuredOutputParser"
   ]
  },
  {
   "cell_type": "code",
   "execution_count": 13,
   "metadata": {},
   "outputs": [],
   "source": [
    "schema_produto = ResponseSchema(\n",
    "    name=\"produto\",\n",
    "    type=\"string\",\n",
    "    description=\"nome do produto mencionado no texto\"\n",
    ")\n",
    "\n",
    "schema_positivas = ResponseSchema(\n",
    "    name=\"caracteristicas_positivas\",\n",
    "    type=\"list\",\n",
    "    description=\"liste todas as carecteristicas positivas mencionadas sobre o produto\"\n",
    ")\n",
    "\n",
    "\n",
    "schema_negativas = ResponseSchema(\n",
    "    name=\"caracteristicas_negativas\",\n",
    "    type=\"list\",\n",
    "    description=\"liste todas as carecteristicas negativas mencionadas sobre o produto\"\n",
    ")\n",
    "\n",
    "\n",
    "schema_recomendacao = ResponseSchema(\n",
    "    name=\"recomendacao\",\n",
    "    type=\"bool\",\n",
    "    description=\"o cliente recomenda o produto?True para sim ou False para não\"\n",
    ")"
   ]
  },
  {
   "cell_type": "code",
   "execution_count": 14,
   "metadata": {},
   "outputs": [],
   "source": [
    "response_schema = [schema_produto,schema_positivas,schema_negativas,schema_recomendacao]\n",
    "\n",
    "\n",
    "output_parser = StructuredOutputParser.from_response_schemas(response_schema)\n",
    "schema_formatado = output_parser.get_format_instructions()"
   ]
  },
  {
   "cell_type": "code",
   "execution_count": 15,
   "metadata": {},
   "outputs": [
    {
     "name": "stdout",
     "output_type": "stream",
     "text": [
      "The output should be a markdown code snippet formatted in the following schema, including the leading and trailing \"```json\" and \"```\":\n",
      "\n",
      "```json\n",
      "{\n",
      "\t\"produto\": string  // nome do produto mencionado no texto\n",
      "\t\"caracteristicas_positivas\": list  // liste todas as carecteristicas positivas mencionadas sobre o produto\n",
      "\t\"caracteristicas_negativas\": list  // liste todas as carecteristicas negativas mencionadas sobre o produto\n",
      "\t\"recomendacao\": bool  // o cliente recomenda o produto?True para sim ou False para não\n",
      "}\n",
      "```\n"
     ]
    }
   ],
   "source": [
    "print(schema_formatado)"
   ]
  },
  {
   "cell_type": "code",
   "execution_count": 16,
   "metadata": {},
   "outputs": [],
   "source": [
    "review_template2 = ChatPromptTemplate.from_template(\"\"\"\n",
    "para o texto a seguir,extraia as seguintes informações:\n",
    "produto,caracteristicas_positivas,caracteristicas_negativas,recomendacao\n",
    "\n",
    "texto:{review}\n",
    "{schema}                                          \n",
    "\"\"\",\n",
    "partial_variables={\"schema\":schema_formatado})"
   ]
  },
  {
   "cell_type": "code",
   "execution_count": 17,
   "metadata": {},
   "outputs": [
    {
     "name": "stdout",
     "output_type": "stream",
     "text": [
      "[HumanMessage(content='\\npara o texto a seguir,extraia as seguintes informações:\\nproduto,caracteristicas_positivas,caracteristicas_negativas,recomendacao\\n\\ntexto:\\nO XYZ Pro é um smartphone que se destaca pelo seu desempenho equilibrado,\\noferecendo um processador eficiente, uma tela de alta qualidade e um bom conjunto de câmeras.\\nSua bateria tem autonomia satisfatória, suportando um dia de uso moderado. \\nO design é moderno, mas pode não inovar muito em relação aos concorrentes.\\nA interface do sistema é fluida, embora possa vir com alguns aplicativos pré-instalados desnecessários. \\nNo geral, é uma opção sólida para quem busca um aparelho confiável sem pagar um preço premium, \\nmas pode não surpreender usuários mais exigentes.\\n\\nThe output should be a markdown code snippet formatted in the following schema, including the leading and trailing \"```json\" and \"```\":\\n\\n```json\\n{\\n\\t\"produto\": string  // nome do produto mencionado no texto\\n\\t\"caracteristicas_positivas\": list  // liste todas as carecteristicas positivas mencionadas sobre o produto\\n\\t\"caracteristicas_negativas\": list  // liste todas as carecteristicas negativas mencionadas sobre o produto\\n\\t\"recomendacao\": bool  // o cliente recomenda o produto?True para sim ou False para não\\n}\\n```                                          \\n')]\n"
     ]
    }
   ],
   "source": [
    "print(review_template2.format_messages(review=feedback_produto))"
   ]
  },
  {
   "cell_type": "code",
   "execution_count": 18,
   "metadata": {},
   "outputs": [],
   "source": [
    "resposta = chat.invoke(review_template2.format_messages(review=feedback_produto))"
   ]
  },
  {
   "cell_type": "code",
   "execution_count": 19,
   "metadata": {},
   "outputs": [
    {
     "data": {
      "text/plain": [
       "'```json\\n{\\n\\t\"produto\": \"XYZ Pro\",\\n\\t\"caracteristicas_positivas\": [\\n\\t\\t\"desempenho equilibrado\",\\n\\t\\t\"processador eficiente\",\\n\\t\"tela de alta qualidade\",\\n\\t\"bom conjunto de câmeras\",\\n\\t\"bateria com autonomia satisfatória\",\\n\\t\"design moderno\"\\n\\t],\\n\\t\"caracteristicas_negativas\": [\\n\\t\\t\"design pode não inovar muito em relação aos concorrentes\",\\n\\t\\t\"alguns aplicativos pré-instalados desnecessários\"\\n\\t],\\n\\t\"recomendacao\": true\\n}\\n```'"
      ]
     },
     "execution_count": 19,
     "metadata": {},
     "output_type": "execute_result"
    }
   ],
   "source": [
    "resposta.content"
   ]
  },
  {
   "cell_type": "code",
   "execution_count": 21,
   "metadata": {},
   "outputs": [],
   "source": [
    "resposta_json = output_parser.parse(resposta.content)"
   ]
  },
  {
   "cell_type": "code",
   "execution_count": 22,
   "metadata": {},
   "outputs": [
    {
     "data": {
      "text/plain": [
       "'XYZ Pro'"
      ]
     },
     "execution_count": 22,
     "metadata": {},
     "output_type": "execute_result"
    }
   ],
   "source": [
    "resposta_json[\"produto\"]"
   ]
  }
 ],
 "metadata": {
  "kernelspec": {
   "display_name": ".venv",
   "language": "python",
   "name": "python3"
  },
  "language_info": {
   "codemirror_mode": {
    "name": "ipython",
    "version": 3
   },
   "file_extension": ".py",
   "mimetype": "text/x-python",
   "name": "python",
   "nbconvert_exporter": "python",
   "pygments_lexer": "ipython3",
   "version": "3.12.7"
  }
 },
 "nbformat": 4,
 "nbformat_minor": 2
}
