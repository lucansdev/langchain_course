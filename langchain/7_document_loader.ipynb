{
 "cells": [
  {
   "cell_type": "code",
   "execution_count": null,
   "metadata": {},
   "outputs": [],
   "source": [
    "from langchain_community.document_loaders.pdf import PyPDFLoader"
   ]
  },
  {
   "cell_type": "code",
   "execution_count": 3,
   "metadata": {},
   "outputs": [],
   "source": [
    "arquivo = \"apostila.pdf\"\n",
    "loader = PyPDFLoader(arquivo)\n",
    "documentos = loader.load()"
   ]
  },
  {
   "cell_type": "code",
   "execution_count": 5,
   "metadata": {},
   "outputs": [
    {
     "data": {
      "text/plain": [
       "28"
      ]
     },
     "execution_count": 5,
     "metadata": {},
     "output_type": "execute_result"
    }
   ],
   "source": [
    "len(documentos)"
   ]
  },
  {
   "cell_type": "code",
   "execution_count": 6,
   "metadata": {},
   "outputs": [
    {
     "data": {
      "text/plain": [
       "Document(page_content=' \\n  \\n \\n \\n \\n \\n \\n \\n \\n \\nINTRODUÇÃO À PROGRAMAÇÃO \\nCOM PYTHON  \\n \\n \\n \\n \\n \\n \\n \\nPrograma de Educação Tutorial  \\nGrupo PET - ADS    \\nIFSP -  Câmpus São Carlos  \\n \\n \\n \\n \\n \\n  ', metadata={'source': 'apostila.pdf', 'page': 0})"
      ]
     },
     "execution_count": 6,
     "metadata": {},
     "output_type": "execute_result"
    }
   ],
   "source": [
    "documentos[0]"
   ]
  },
  {
   "cell_type": "code",
   "execution_count": 8,
   "metadata": {},
   "outputs": [
    {
     "data": {
      "text/plain": [
       "'3 \\n 2. Digite o comando sudo  apt-get install  python3.4 no terminal do GNU/Linux para inicializar \\no processo de instalação.  \\n \\n \\n \\n3. Terminado o download , o interpretador já estará instalado no  computador.  \\n \\n \\n \\n \\nb) Instalação  do IDLE  no Linux  \\n \\nO IDLE é um ambiente in tegrado de desenvolvimento  que acompanha a instalação do interpretador \\nPython em sistemas operacionais Windows. Para tê -lo disponível em distribuições Linux basta \\nseguir as e tapas abaixo:  \\n \\n1. Acesse o t erminal Linux . \\n \\n \\n \\n2. Digite o comando sudo  apt-get install idle-python3.4 . \\n \\n \\n \\n3. Para executá -lo basta digitar no terminal idle-python3.4 & . \\n \\n \\n \\n \\n'"
      ]
     },
     "execution_count": 8,
     "metadata": {},
     "output_type": "execute_result"
    }
   ],
   "source": [
    "documentos[5].page_content"
   ]
  },
  {
   "cell_type": "code",
   "execution_count": 11,
   "metadata": {},
   "outputs": [],
   "source": [
    "from langchain.chains.question_answering import load_qa_chain\n",
    "from langchain_openai.chat_models import ChatOpenAI\n",
    "import os\n",
    "import dotenv\n",
    "\n",
    "dotenv.load_dotenv()\n",
    "\n",
    "\n",
    "chat = ChatOpenAI(api_key=os.getenv(\"openaiKey\"))\n",
    "\n",
    "\n",
    "chain = load_qa_chain(llm=chat,chain_type=\"stuff\",verbose=True)"
   ]
  },
  {
   "cell_type": "code",
   "execution_count": 12,
   "metadata": {},
   "outputs": [
    {
     "name": "stdout",
     "output_type": "stream",
     "text": [
      "\n",
      "\n",
      "\u001b[1m> Entering new StuffDocumentsChain chain...\u001b[0m\n",
      "\n",
      "\n",
      "\u001b[1m> Entering new LLMChain chain...\u001b[0m\n",
      "Prompt after formatting:\n",
      "\u001b[32;1m\u001b[1;3mSystem: Use the following pieces of context to answer the user's question. \n",
      "If you don't know the answer, just say that you don't know, don't try to make up an answer.\n",
      "----------------\n",
      " \n",
      "  \n",
      " \n",
      " \n",
      " \n",
      " \n",
      " \n",
      " \n",
      " \n",
      " \n",
      "INTRODUÇÃO À PROGRAMAÇÃO \n",
      "COM PYTHON  \n",
      " \n",
      " \n",
      " \n",
      " \n",
      " \n",
      " \n",
      " \n",
      "Programa de Educação Tutorial  \n",
      "Grupo PET - ADS    \n",
      "IFSP -  Câmpus São Carlos  \n",
      " \n",
      " \n",
      " \n",
      " \n",
      " \n",
      "  \n",
      "\n",
      " \n",
      "  \n",
      "Sumário  \n",
      "PREFÁCIO  ................................ ................................ ................................ ........................  1 \n",
      "1. INTRODUÇÃO  ................................ ................................ ................................ ..............  2 \n",
      "1.1 Característi cas da linguagem Python  ................................ ................................ ..... 2 \n",
      "1.2 Instalação do interpretador Python  ................................ ................................ .......  2 \n",
      "2. VARIÁVEIS  ................................ ................................ ................................ ...................  4 \n",
      "3. STRINGS  ................................ ................................ ................................ ......................  6 \n",
      "3.1 Concatenação d e strings  ................................ ................................ ........................  6 \n",
      "3.2 Manipulação de strings  ................................ ................................ ..........................  7 \n",
      "3.3 Fatiamento de strings  ................................ ................................ ............................  8 \n",
      "3.4 Exercícios: strings  ................................ ................................ ................................ .. 8 \n",
      "4. NÚMEROS  ................................ ................................ ................................ ...................  9 \n",
      "4.1 Operadores numéricos  ................................ ................................ ..........................  9 \n",
      "4.2 Exercícios: números  ................................ ................................ ...............................  9 \n",
      "5. LISTAS  ................................ ................................ ................................ .......................  10 \n",
      "5.1 Funções para manipulação de listas  ................................ ................................ .... 10 \n",
      "5.2 Operações com listas  ................................ ................................ ...........................  11 \n",
      "5.3 Fatiamento de listas  ................................ ................................ ............................  11 \n",
      "5.4 Criação de listas com range ( )  ................................ ................................ .............  12 \n",
      "5.5 Exercícios: listas  ................................ ................................ ................................ ... 12 \n",
      "6. TUPLAS  ................................ ................................ ................................ .....................  13 \n",
      "7. DICIONÁRIOS  ................................ ................................ ................................ ............  13 \n",
      "7.1 Operações em dicionários  ................................ ................................ ...................  14 \n",
      "7.2 Exercícios: dicionários  ................................ ................................ ..........................  14 \n",
      "8. BIBLIOTECAS  ................................ ................................ ................................ .............  15 \n",
      "9. ESTRUTURAS DE DECISÃO  ................................ ................................ .........................  15 \n",
      "9.1 Estrutura if  ................................ ................................ ................................ ...........  16 \n",
      "9.2 Estrutura if..else  ................................ ................................ ................................ .. 16 \n",
      "9.3 Comando  if..elif ..else  ................................ ................................ ...........................  16 \n",
      "9.4 Exercícios: estruturas de decisão  ................................ ................................ .........  17 \n",
      "\n",
      " \n",
      " 10. ESTRUTURAS DE REPETIÇÃO  ................................ ................................ ...................  17 \n",
      "10.1 Laço while  ................................ ................................ ................................ ..........  17 \n",
      "10.2 Laço for  ................................ ................................ ................................ ..............  18 \n",
      "10.3 Exercício s: estrutura de repetição ................................ ................................ ...... 19 \n",
      "11. FUNÇÕES  ................................ ................................ ................................ ................  19 \n",
      "11.1 Como definir uma função  ................................ ................................ ..................  19 \n",
      "11.2 Parâmetros e argumentos  ................................ ................................ .................  19 \n",
      "11.3 Escopo das variáveis  ................................ ................................ ..........................  20 \n",
      "11.4 Retorno de valores  ................................ ................................ ............................  20 \n",
      "11.5  Valor padrão  ................................ ................................ ................................ ...... 21 \n",
      "11.6 Exercícios: funções ................................ ................................ .............................  21 \n",
      "12. RESPOSTAS DOS EXERCÍCIOS  ................................ ................................ ...................  22 \n",
      "BIBLIOGRAFIA  ................................ ................................ ................................ ...............  25 \n",
      " \n",
      " \n",
      "\n",
      "1 \n",
      " PREFÁCIO  \n",
      " \n",
      "Este material foi escrito para ser utilizado em cursos de extensão de  Introdução à \n",
      "Programação com Python , do Instituto Federal de Educação, Ciência e Tecnologia de \n",
      "São Paulo , câmpus São Carlos.  \n",
      "A apostila foi desenvolvida pelo s integrantes do Programa de Educação Tutorial do curso \n",
      "de Tecnologia em Análise e Desenvolvimento de Sistemas - grupo PET ADS  / IFSP  São \n",
      "Carlos. O grupo iniciou suas atividades em 2011 , e realiza atividades diversas  envolvendo \n",
      "Ensino, Pesquisa e Extensão.  Entre as linguagens e ferramentas de programação estudadas \n",
      "pelo grupo estão : o ambiente de desenvolvimento Lazarus, o editor de jogos Construct 2, as \n",
      "linguagens Ruby, Python e JavaScript, os frameworks Rails, Django, Web2Py e Grails.  \n",
      "A linguagem Python s e destacou pela facilidade de programação e versatilidade. Python é \n",
      "uma linguagem de uso geral, que pode ser utilizada para diversas aplicações. Apresenta \n",
      "uma sintaxe simples, tornando os programas mais legíveis, o que também facilita o \n",
      "aprendizado da ling uagem. Possui listas, dicionários e tuplas como estruturas de dados \n",
      "pré-definidas. É uma linguagem multiparadigma: suporta os paradigmas de programação \n",
      "procedural, funcional e orientado a objetos.  \n",
      "Diversos petianos colaboraram na confecção desta apostila.  Mas gostaria de agradecer \n",
      "especialmente quatro estudantes que se destacaram pelo empenho e dedicação na \n",
      "execução dessa tarefa: José Picharillo, Lucas Limão, Viviane Quinaia e Camila Couto.   \n",
      "Este é um material de apoio para um curso de extensão introdutório, cujo objetivo é \n",
      "divulgar a linguagem Python. Não é um material preparado para autoaprendizagem, \n",
      "embora seja possível utilizá -lo com esse fim.  \n",
      "Reforçando, este é um material introdutório. Tem muit o mais  para aprender em Python: \n",
      "orientação a objetos, programação funcional, metaprogramação, interface gráfica, \n",
      "expressões regulares, threads, tratamento de exceções, funções anônimas, geradores, \n",
      "desenvolvimento web, aplicativos móveis, entre outr as.  \n",
      "Bem -vindo ao mundo Python!  \n",
      " \n",
      " \n",
      " \n",
      "Prof. Dr. João Luiz Franco  \n",
      "Tutor do grupo PET - ADS  / São Carlos  \n",
      "  \n",
      "\n",
      "2 \n",
      "  \n",
      "1. INTRODUÇÃO  \n",
      " \n",
      "1.1 Características da l inguagem Python  \n",
      " \n",
      "A linguagem de programação Python  foi criada  em 1991  por Guido V an Rossum em, com a \n",
      "finalidade de ser uma linguagem simpl es e de fácil compreensão. Ape sar de simples, Python é uma \n",
      "linguagem muito poderosa, que pode ser usada para desenvolver e administrar grandes sistemas.  \n",
      " \n",
      "Uma das principais características que diferenci a a linguagem Python das outras  é a legibilidade dos \n",
      "programas escritos . Isto ocorre porque , em outras linguagens , é muito comum o uso  excess ivo de \n",
      "marcações (p onto ou ponto e vírgula ), de marcadores ( chaves, colchetes ou parêntes es) e de \n",
      "palavras especiais  (begin/end), o que torna mais  difícil a leitura e compreensão dos programas. Já \n",
      "em Python, o uso desses recursos é reduzido, deixando  a linguagem visualmente mais limpa, de \n",
      "fácil compreensão e leitura.  \n",
      " \n",
      "Entre outras características existentes n a linguagem P ython, destaca -se a simplicidade da \n",
      "linguagem, que facilita o aprend izado  da programa ção. Python também possui uma portabilidade \n",
      "muito grande para diversas plataformas diferentes, além de ser possível utilizar trechos de código s \n",
      "em outras linguagens . \n",
      " \n",
      "Python é um software livre, ou se ja, permite  que usuários e colaboradores possam modificar seu \n",
      "código fonte  e compartilhar essas novas atualizações , contribuindo  para o constante  \n",
      "aperfeiçoamento  da linguagem.  A especificação da linguagem é mantida pela empresa Python \n",
      "Software Foundation  (PSF).  \n",
      " \n",
      " \n",
      "1.2 Instalação do i nterpretador Python  \n",
      " \n",
      "a) Instala ção de  Python  no Linux  \n",
      " \n",
      "Nas versões mais recentes do GNU/Linux , o Python já se encontra instalado , bastando ao \n",
      "programador entrar no terminal e digitar python . Caso não esteja , segue m os passos para a \n",
      "instalaç ão no terminal : \n",
      " \n",
      "1. Acesse o terminal Linux.  \n",
      " \n",
      " \n",
      " \n",
      " \n",
      "\n",
      "\n",
      "3 \n",
      " 2. Digite o comando sudo  apt-get install  python3.4 no terminal do GNU/Linux para inicializar \n",
      "o processo de instalação.  \n",
      " \n",
      " \n",
      " \n",
      "3. Terminado o download , o interpretador já estará instalado no  computador.  \n",
      " \n",
      " \n",
      " \n",
      " \n",
      "b) Instalação  do IDLE  no Linux  \n",
      " \n",
      "O IDLE é um ambiente in tegrado de desenvolvimento  que acompanha a instalação do interpretador \n",
      "Python em sistemas operacionais Windows. Para tê -lo disponível em distribuições Linux basta \n",
      "seguir as e tapas abaixo:  \n",
      " \n",
      "1. Acesse o t erminal Linux . \n",
      " \n",
      " \n",
      " \n",
      "2. Digite o comando sudo  apt-get install idle-python3.4 . \n",
      " \n",
      " \n",
      " \n",
      "3. Para executá -lo basta digitar no terminal idle-python3.4 & . \n",
      " \n",
      " \n",
      " \n",
      " \n",
      "\n",
      "\n",
      "4 \n",
      " c) Instala ção do  Python  no Windows  \n",
      " \n",
      "A instalação do interpretador Python para Windows é mais simples,  conforme apresentado a seguir : \n",
      " \n",
      "1. Entre no site www.python.org . Na aba  download  selecione  a versão 3.5.1 . \n",
      " \n",
      "2. Após o download , execute o instalador mantendo , por default , todas as configurações a cada \n",
      "passo da instalação. Depois clique em Finalizar  e o interpretador Python já est ará instalado \n",
      "no computador.  \n",
      " \n",
      "Caso  você não consiga  execut ar o interpretador Python pelo prompt de comando , provavelmente o \n",
      "path não está configurado. Veja abaixo os passos para configurá -lo: \n",
      " \n",
      "1. Com o cursor do mouse vá até Computador , clique  com o botão direito e escolha \n",
      "Propriedades . \n",
      " \n",
      "2. Depois clique em Configurações avançadas do sistema  e, a seguir , Variáveis  de ambiente . \n",
      " \n",
      "3. Com ajuda  da barra de rolagem  procure a  variável chamada path, selecion e-a e escolha a \n",
      "opção Editar . \n",
      " \n",
      "4. Na próxima janela , no campo Valor de variável , você irá encontrar uma lista contendo \n",
      "vários paths  de outros programas. Para adicionar um novo path, vá até o final da lista e \n",
      "acrescente um ponto e vírgula  ( ; ). Depois disso , copie  o endereço da pasta onde se \n",
      "enco ntra instalado o interpretador P ython e c ole após ponto e vírgula . \n",
      " \n",
      " \n",
      "2. V ARIÁVEIS  \n",
      " \n",
      "Variáveis são pequenos espaços de memória, utilizados para armazenar e manipular dados. Em \n",
      "Python, os tipos de dados básicos  são:  tipo inteiro (armazena números inteiros ), tipo float (armazena \n",
      "números em formato decimal ), e tipo string (armazena um conjun to de caracteres). Cada variável \n",
      "pode armazenar apenas um tipo de dado  a cada instante . \n",
      " \n",
      "Em Python, diferente mente  de outras linguagens de programação, não é preciso declarar de que tipo \n",
      "será cada v ariável no início do programa. Q uando se faz uma atribuição  de valor , automaticamente a \n",
      "variável se torna do tipo do valor armazenado, como apresentado  nos exemplos a seguir :  \n",
      " \n",
      "Exemplos:  \n",
      " \n",
      "A variável a se torna uma variável do tipo inteiro.  \n",
      "\n",
      "\n",
      "5 \n",
      "  \n",
      "A variável b se torna uma variável do tipo float.  \n",
      " \n",
      "A variável c se torna  uma variável do tipo string.  \n",
      " \n",
      "A atribuição de valor para uma variável pode ser feita utiliza ndo o comando input( ), que \n",
      "solicita ao usuário o valor a  ser atribuído à variável . \n",
      " \n",
      "Exemplo:  \n",
      " \n",
      " \n",
      " \n",
      "O comando input() , sempre vai retornar uma s tring. Nesse caso, para retornar dados do tipo \n",
      "inteiro ou float, é preciso converter o tipo do valor lido . Para isso, utiliza -se o int (string ) para \n",
      "converter para o  tipo inteiro, ou float  (string ) para converter para o  tipo float.  \n",
      " \n",
      " \n",
      "Exemplo s: \n",
      " \n",
      " \n",
      " \n",
      " \n",
      " \n",
      "Em Python, os nomes da s variáveis devem ser inicia dos com uma letra, mas podem possuir outros \n",
      "tipos de caracteres , como números e símbolos. O símbolo sublinha ( _ ) também é aceito no início \n",
      "de nomes de variáveis.  \n",
      " \n",
      " \n",
      "\n",
      "Human: do que se trata esse doumento?\u001b[0m\n",
      "\n",
      "\u001b[1m> Finished chain.\u001b[0m\n",
      "\n",
      "\u001b[1m> Finished chain.\u001b[0m\n"
     ]
    },
    {
     "data": {
      "text/plain": [
       "'Esse documento se trata de uma apostila utilizada em cursos de extensão de Introdução à Programação com Python, do Instituto Federal de Educação, Ciência e Tecnologia de São Paulo, campus São Carlos. A apostila foi desenvolvida pelo grupo PET ADS/IFSP São Carlos e aborda os conceitos básicos da linguagem de programação Python, como variáveis, strings, números, listas, tuplas, dicionários, bibliotecas, estruturas de decisão, estruturas de repetição, funções, entre outros tópicos.'"
      ]
     },
     "execution_count": 12,
     "metadata": {},
     "output_type": "execute_result"
    }
   ],
   "source": [
    "pergunta = \"do que se trata esse doumento?\"\n",
    "\n",
    "chain.run(input_documents=documentos[:8],question=pergunta)"
   ]
  },
  {
   "cell_type": "markdown",
   "metadata": {},
   "source": [
    "### carregamento arquivo csv\n"
   ]
  },
  {
   "cell_type": "code",
   "execution_count": 15,
   "metadata": {},
   "outputs": [],
   "source": [
    "from langchain_community.document_loaders.csv_loader import CSVLoader\n",
    "\n",
    "arquivo = \"imdb_movies.csv\"\n",
    "loader = CSVLoader(arquivo)\n",
    "documentos = loader.load()"
   ]
  },
  {
   "cell_type": "code",
   "execution_count": 16,
   "metadata": {},
   "outputs": [
    {
     "data": {
      "text/plain": [
       "Document(page_content=': 5\\nMovie Name: The Godfather: Part II\\nYear of Release: (1974)\\nWatch Time: 202 min\\nMovie Rating: 9.0\\nMeatscore of movie: 90\\nVotes: 34,709\\nGross: $57.30M\\nDescription: The early life and career of Vito Corleone in 1920s New York City is portrayed, while his son, Michael, expands and tightens his grip on the family crime syndicate.', metadata={'source': 'imdb_movies.csv', 'row': 5})"
      ]
     },
     "execution_count": 16,
     "metadata": {},
     "output_type": "execute_result"
    }
   ],
   "source": [
    "documentos[5]"
   ]
  },
  {
   "cell_type": "code",
   "execution_count": 17,
   "metadata": {},
   "outputs": [
    {
     "data": {
      "text/plain": [
       "{'source': 'imdb_movies.csv', 'row': 80}"
      ]
     },
     "execution_count": 17,
     "metadata": {},
     "output_type": "execute_result"
    }
   ],
   "source": [
    "documentos[80].metadata"
   ]
  },
  {
   "cell_type": "code",
   "execution_count": 19,
   "metadata": {},
   "outputs": [
    {
     "name": "stdout",
     "output_type": "stream",
     "text": [
      "\n",
      "\n",
      "\u001b[1m> Entering new StuffDocumentsChain chain...\u001b[0m\n",
      "\n",
      "\n",
      "\u001b[1m> Entering new LLMChain chain...\u001b[0m\n",
      "Prompt after formatting:\n",
      "\u001b[32;1m\u001b[1;3mSystem: Use the following pieces of context to answer the user's question. \n",
      "If you don't know the answer, just say that you don't know, don't try to make up an answer.\n",
      "----------------\n",
      ": 0\n",
      "Movie Name: The Shawshank Redemption\n",
      "Year of Release: (1994)\n",
      "Watch Time: 142 min\n",
      "Movie Rating: 9.3\n",
      "Meatscore of movie: 81\n",
      "Votes: 34,709\n",
      "Gross: $28.34M\n",
      "Description: Two imprisoned men bond over a number of years, finding solace and eventual redemption through acts of common decency.\n",
      "\n",
      ": 1\n",
      "Movie Name: The Godfather\n",
      "Year of Release: (1972)\n",
      "Watch Time: 175 min\n",
      "Movie Rating: 9.2\n",
      "Meatscore of movie: 100\n",
      "Votes: 34,709\n",
      "Gross: $134.97M\n",
      "Description: The aging patriarch of an organized crime dynasty in postwar New York City transfers control of his clandestine empire to his reluctant youngest son.\n",
      "\n",
      ": 2\n",
      "Movie Name: The Dark Knight\n",
      "Year of Release: (2008)\n",
      "Watch Time: 152 min\n",
      "Movie Rating: 9.0\n",
      "Meatscore of movie: 84\n",
      "Votes: 34,709\n",
      "Gross: $534.86M\n",
      "Description: When the menace known as the Joker wreaks havoc and chaos on the people of Gotham, Batman must accept one of the greatest psychological and physical tests of his ability to fight injustice.\n",
      "\n",
      ": 3\n",
      "Movie Name: The Lord of the Rings: The Return of the King\n",
      "Year of Release: (2003)\n",
      "Watch Time: 201 min\n",
      "Movie Rating: 9.0\n",
      "Meatscore of movie: 94\n",
      "Votes: 34,709\n",
      "Gross: $377.85M\n",
      "Description: Gandalf and Aragorn lead the World of Men against Sauron's army to draw his gaze from Frodo and Sam as they approach Mount Doom with the One Ring.\n",
      "\n",
      ": 4\n",
      "Movie Name: Schindler's List\n",
      "Year of Release: (1993)\n",
      "Watch Time: 195 min\n",
      "Movie Rating: 9.0\n",
      "Meatscore of movie: 94\n",
      "Votes: 34,709\n",
      "Gross: $96.90M\n",
      "Description: In German-occupied Poland during World War II, industrialist Oskar Schindler gradually becomes concerned for his Jewish workforce after witnessing their persecution by the Nazis.\n",
      "\n",
      ": 5\n",
      "Movie Name: The Godfather: Part II\n",
      "Year of Release: (1974)\n",
      "Watch Time: 202 min\n",
      "Movie Rating: 9.0\n",
      "Meatscore of movie: 90\n",
      "Votes: 34,709\n",
      "Gross: $57.30M\n",
      "Description: The early life and career of Vito Corleone in 1920s New York City is portrayed, while his son, Michael, expands and tightens his grip on the family crime syndicate.\n",
      "\n",
      ": 6\n",
      "Movie Name: 12 Angry Men\n",
      "Year of Release: (1957)\n",
      "Watch Time: 96 min\n",
      "Movie Rating: 9.0\n",
      "Meatscore of movie: 96\n",
      "Votes: 34,709\n",
      "Gross: $4.36M\n",
      "Description: The jury in a New York City murder trial is frustrated by a single member whose skeptical caution forces them to more carefully consider the evidence before jumping to a hasty verdict.\n",
      "\n",
      ": 7\n",
      "Movie Name: Jai Bhim\n",
      "Year of Release: (2021)\n",
      "Watch Time: 164 min\n",
      "Movie Rating: 8.9\n",
      "Meatscore of movie: ****\n",
      "Votes: 34,709\n",
      "Gross: #248\n",
      "Description: When a tribal man is arrested for a case of alleged theft, his wife turns to a human-rights lawyer to help bring justice.\n",
      "\n",
      ": 8\n",
      "Movie Name: Pulp Fiction\n",
      "Year of Release: (1994)\n",
      "Watch Time: 154 min\n",
      "Movie Rating: 8.9\n",
      "Meatscore of movie: 94\n",
      "Votes: 34,709\n",
      "Gross: $107.93M\n",
      "Description: The lives of two mob hitmen, a boxer, a gangster and his wife, and a pair of diner bandits intertwine in four tales of violence and redemption.\n",
      "\n",
      ": 9\n",
      "Movie Name: Inception\n",
      "Year of Release: (2010)\n",
      "Watch Time: 148 min\n",
      "Movie Rating: 8.8\n",
      "Meatscore of movie: 74\n",
      "Votes: 34,709\n",
      "Gross: $292.58M\n",
      "Description: A thief who steals corporate secrets through the use of dream-sharing technology is given the inverse task of planting an idea into the mind of a C.E.O., but his tragic past may doom the project and his team to disaster.\n",
      "Human: qual filme com maior e menor metascore?\u001b[0m\n",
      "\n",
      "\u001b[1m> Finished chain.\u001b[0m\n",
      "\n",
      "\u001b[1m> Finished chain.\u001b[0m\n"
     ]
    },
    {
     "data": {
      "text/plain": [
       "'O filme com o maior Metascore é \"The Godfather\" com uma pontuação de 100. Já o filme com o menor Metascore é \"Inception\" com uma pontuação de 74.'"
      ]
     },
     "execution_count": 19,
     "metadata": {},
     "output_type": "execute_result"
    }
   ],
   "source": [
    "pergunta = \"qual filme com maior e menor metascore?\"\n",
    "chain.run(input_documents=documentos[:10],question=pergunta)"
   ]
  },
  {
   "cell_type": "markdown",
   "metadata": {},
   "source": [
    "### carregando videos do youtube"
   ]
  },
  {
   "cell_type": "code",
   "execution_count": 35,
   "metadata": {},
   "outputs": [],
   "source": [
    "from langchain_community.document_loaders.generic import GenericLoader\n",
    "from langchain_community.document_loaders.blob_loaders.youtube_audio import YoutubeAudioLoader\n",
    "from langchain.document_loaders.parsers import OpenAIWhisperParser"
   ]
  },
  {
   "cell_type": "code",
   "execution_count": null,
   "metadata": {},
   "outputs": [
    {
     "name": "stdout",
     "output_type": "stream",
     "text": [
      "erro denovo\n"
     ]
    }
   ],
   "source": [
    "url = \"https://www.youtube.com/watch?v=-1i3ZViZotg\"\n",
    "save_dir = \"youtube\"\n",
    "\n",
    "try:\n",
    "    from pytube import YouTube\n",
    "        \n",
    "    yt = YouTube(url)\n",
    "    audio = yt.streams.filter(only_audio=True).first()\n",
    "    output_file = audio.download(output_path=save_dir)\n",
    "    print(f\"Áudio baixado via pytube: {output_file}\")\n",
    "        \n",
    "    # Processe o arquivo baixado com o OpenAI Whisper\n",
    "    from langchain_community.document_loaders import TextLoader\n",
    "    whisper_parser = OpenAIWhisperParser(api_key=os.getenv(\"openaiKey\"))\n",
    "    docs = whisper_parser.parse(output_file)\n",
    "\n",
    "except Exception as e:\n",
    "    print(\"erro denovo\")"
   ]
  },
  {
   "cell_type": "code",
   "execution_count": null,
   "metadata": {},
   "outputs": [],
   "source": [
    "pergunta = \"resuma este documento para mim.\"\n",
    "chain.run(input_documents=docs,question=pergunta)"
   ]
  },
  {
   "cell_type": "markdown",
   "metadata": {},
   "source": [
    "### web via url"
   ]
  },
  {
   "cell_type": "code",
   "execution_count": 29,
   "metadata": {},
   "outputs": [],
   "source": [
    "from langchain_community.document_loaders.web_base import WebBaseLoader\n",
    "\n",
    "url = \"https://www.iesp.edu.br/cursos/graduacao/ciencias-da-computacao\"\n",
    "\n",
    "loader = WebBaseLoader(url)\n",
    "documents = loader.load()"
   ]
  },
  {
   "cell_type": "code",
   "execution_count": 30,
   "metadata": {},
   "outputs": [
    {
     "data": {
      "text/plain": [
       "1"
      ]
     },
     "execution_count": 30,
     "metadata": {},
     "output_type": "execute_result"
    }
   ],
   "source": [
    "len(documents)"
   ]
  },
  {
   "cell_type": "code",
   "execution_count": 31,
   "metadata": {},
   "outputs": [
    {
     "data": {
      "text/plain": [
       "\"\\n\\n\\n\\n\\n\\n\\nCiências da Computação - Graduação | IESP agora é UNIESP Centro Universitário | Cursos de Graduação e Pós-Graduação\\n\\n\\n\\n\\n\\n\\n\\n\\n\\n\\n\\n\\n\\n\\n\\n\\n\\n\\n\\n\\n\\n\\n\\n\\n\\n\\n\\n\\n\\n\\n\\n\\n\\n\\n\\n\\n\\n\\n\\n\\n\\n\\n\\n\\n\\n\\n\\n\\n\\n\\n\\n\\n\\n\\n\\n\\n\\n\\n\\n\\n\\n\\n\\n\\n\\n\\n\\n\\n\\n\\n\\n\\n\\n\\n\\n\\n\\n\\n\\n\\n\\n\\n\\n\\n\\n\\n\\n\\n\\nInstitucional\\n\\nCentro Universitário\\nEstrutura\\nPolos\\nBiblioteca\\nColuna Ponto de Vista\\nCOOPERE\\nPublicações\\nCPA\\nCEUA\\nENADE\\nComitê de Ética\\nDCE e DAS\\n\\nDirigentes\\nSetores e telefones\\nDPO - LGPD\\n\\nCalendário\\n\\nCALENDÁRIO ACADÊMICO DO EAD\\nCalendário acadêmico\\n\\n\\nProjetos\\nNotícias\\n \\n\\n\\nCursos\\n\\nGraduação\\n\\nPresencial\\nSemipresencial\\nEAD\\n\\n\\nPós-Graduação\\n\\nPresencial\\nEAD\\n\\n\\nCursos Livres\\n\\n\\n\\n\\n\\n\\nInscreva-se\\n\\nInscreva-se\\nENEM\\nVestibular Online\\nTransfira para o UNIESP\\n2ª Graduação\\nRetorno ao curso\\nBolsas e Financiamentos\\nConsulte seu Resultado\\nMatrícula \\n\\n\\nServiços\\n\\nAluno Online – Graduação\\nAluno Online – Pós\\nProfessor Online\\nPlataforma de Aprendizagem\\n\\nBiblioteca\\nEducação Corporativa\\nInternacionalização\\nNúcleo de Carreiras\\nEstágios\\nNUPS\\nClínica Escola\\nÁrea do Egresso\\nAtendimento on-line\\nAutenticidade\\n\\n \\n\\nEducação a Distância\\n\\n\\n\\n\\n\\n\\n\\n\\n\\n\\n×\\n\\n\\nBuscar\\n\\n\\n\\n\\n\\n\\n \\n\\n\\n\\n\\n\\n\\nCiências da Computação\\n\\n\\n\\n\\n\\nHome\\nCursos\\nGraduação\\n\\n\\n\\n\\n\\n\\n\\n\\n\\n\\n\\n\\n\\nSobre o curso\\n\\n\\nGraduação - Bacharelado - Presencial\\n  4 anos \\n\\n\\n\\nNa área de Ciência da Computação, o curso, com 4 anos de duração, abrangerá desde lógica de programação até a construção de sistemas complexos. Os alunos irão se especializar em áreas como inteligência artificial, desenvolvimento web e segurança da informação. Projetos práticos de pesquisa e desenvolvimento de software permitem a aplicação direta dos conhecimentos adquiridos.\\nOs estudantes não apenas irão adquirir habilidades técnicas avançadas, mas também vão desenvolver habilidades fundamentais como trabalho em equipe, liderança, análise crítica e resolução de problemas. A formação em Ciência da Computação não se limita a capacitar os alunos a resolver desafios computacionais, mas também a prepará-los para liderar e inovar em um mundo impulsionado pela tecnologia.\\nCiência da Computação - Resolução CDC Nº 001 de 02 de Janeiro de 2024 \\n\\n\\n\\n\\n\\nMercado de Trabalho\\n\\nApontado sistematicamente por veículos de comunicação como uma área com postos de trabalhos ociosos, o mercado de trabalho em Tecnologia da Informação\\xa0oferece uma vasta gama de possibilidades. Vale salientar que esses mesmos meios de comunicação também vêm informando que as empresas da área de TI têm crescido e contratado nestes últimos anos. Além disso, Tecnologia da Informação é uma das melhores áreas para se empreender e existem editais de incentivo e financiamento de Startups. Aos concurseiros de plantão, anualmente são lançados editais com diversos cargos com ótimos salários. Também é possível trabalhar de forma autônoma como freelancer, captando e atendendo clientes e trabalhar presencialmente ou home office para empresas de qualquer lugar do Brasil ou do mundo, pois a computação não esta limitada as barreira impostas pela distância. Na prática, grande parte dos nossos alunos começa a trabalhar na área antes mesmo de formados. \\n\\n\\n\\n\\n\\n\\nDiferenciais do curso de Ciências da Computação do UNIESP\\n\\nCENTRO UNIVERSITÁRIO\\xa0CONCEITO 5 NO MEC\\xa0⭐⭐⭐⭐⭐\\nESTRUTURA\\n\\nCENTRO DE TECNOLOGIA IESP - um bloco inteiro com máquinas de alto desempenho onde os alunos usam os mais recentes softwares do mercado, colocando em prática as atividades dos cursos.\\nCONDUCTOR LAB IESP - A Conductor é uma das principais empresas de tecnologia da Paraíba, especializada em processamento e soluções para meios de pagamento eletrônicos. O projeto Conductor Lab IESP é uma extensão da empresa dentro do IESP que, por meio de projetos semestrais e bolsas de estágio auxiliam e incentivam a alunos a darem o primeiro passo ao mundo corporativo, dando uma oportunidade aos alunos que se destacam a serem contratados pela empresa.\\nCENTRAL DE INFORMAÇÃO - Biblioteca referência no estado da Paraíba composta por aproximadamente 50.000 exemplares de livros, além de TCC's, periódicos e bases de dados, muito procurada também pela comunidade externa e central de Informação com acervo atualizado.\\nSalas multimídia.\\nAmplo estacionamento gratuito.\\n\\nPROJETOS\\n\\nFÁBRICA DE SOFTWARE - Um espaço dentro da faculdade que simula um ambiente real de uma empresa, dando oportunidade aos alunos de todos os períodos ter uma aproximação com processos e metodologias de Desenvolvimento de Software.\\nPID (Programa de Inclusão Digital) - Os alunos participam como instrutores desse projeto, que tem com o objetivo oferecer cursos básicos de informática para adolescentes de comunidades carentes e profissionais em busca de inclusão digital.\\nAtividades voltados a robótica por meio da realização de cursos de extensão, capacitando os alunos nessa área. A faculdade também sedia e patrocina torneios de grande porte como a TJR (Torneio Juvenil de Robótica)\\n\\nEVENTOS\\n\\nJAMPASEC:\\xa0 Presença no JampaSec, um dos maiores eventos de Segurança da Informação do estado. O evento conta com a presença de profissionais da área de Segurança da Informação, que tratam sobre os temas e tendências na área. Além disso, o evento também realiza oficinas e competições como a Capture the Flaf (CTF).\\nSETEC: O IESP realiza a SETEC - Semana de Tecnologia, onde os alunos participam de palestras ministradas por importantes convidados externos da área, oficinas, competições e minicursos voltados a área de tecnologia de informação.\\nMEET UP - O IESP recebe diversos Meetups das principais comunidades de TI da Paraíba, como PHP-PB, PUG-PB, .NET_PB, Pyadies, dentre outras.\\n\\nENCAMINHAMENTO PROFISSIONAL\\n\\nNúcleo de carreiras - encaminhamento constante dos alunos para estágios e empregos devido ao contato com empresários e empresas da região.\\nNUPS - Acompanhamento psicológico, pedagógico e psicopedagógico durante todo o seu curso.\\xa0\\n \\n\\n\\n\\n\\n Inscreva-se\\n\\n\\n\\n\\n\\n\\n Inscreva-se\\n\\n\\n\\n\\n\\t\\t\\t\\t\\t\\t\\t\\tCoordenador do Curso\\n\\t\\t\\t\\t\\t\\t\\t\\t\\t\\t\\t\\t\\t\\n\\n Dr. Marcelo Fernandes\\n\\n\\nCurrículo Lattes coordsi@iesp.edu.br 2106-3816 \\n\\n\\n\\n\\n\\nEmpresas Conveniadas\\n\\n\\n\\n\\n QUERO SABER MAIS\\n\\n\\n\\nValor Mensalidade\\n\\n Tarde\\n\\n\\n\\n\\n\\n\\n\\n\\n\\n\\n\\n\\n\\n\\n\\n\\n\\n\\n\\n\\n\\n\\n\\n\\n\\n\\n\\n\\n\\n\\n\\n\\n\\n\\nInstitucional\\n\\nCentro Universitário\\nEstrutura\\nPolos\\nBiblioteca\\nColuna Ponto de Vista\\nCOOPERE\\nPublicações\\nCPA\\nCEUA\\nENADE\\nComitê de Ética\\nDCE e DAS\\n\\nDirigentes\\nSetores e telefones\\nDPO - LGPD\\n\\nCalendário\\n\\nCALENDÁRIO ACADÊMICO DO EAD\\nCalendário acadêmico\\n\\n\\nProjetos\\nNotícias\\n \\n\\n\\nCursos\\n\\nGraduação\\n\\nPresencial\\nSemipresencial\\nEAD\\n\\n\\nPós-Graduação\\n\\nPresencial\\nEAD\\n\\n\\nCursos Livres\\n\\n\\n\\n\\n\\nInscreva-se\\n\\nInscreva-se\\nENEM\\nVestibular Online\\nTransfira para o UNIESP\\n2ª Graduação\\nRetorno ao curso\\nBolsas e Financiamentos\\nConsulte seu Resultado\\nMatrícula PRAVALER\\n\\n\\n\\nServiços\\n\\nAluno Online – Graduação\\nAluno Online – Pós\\nProfessor Online\\nPlataforma de Aprendizagem\\n\\nBiblioteca\\nEducação Corporativa\\nInternacionalização\\nNúcleo de Carreiras\\nEstágios\\nNUPS\\nClínica Escola\\nÁrea do Egresso\\nAtendimento on-line\\nAutenticidade\\n\\n \\n\\n\\n\\n\\n\\nCopyright ©2025 Sociedade de Ensino Superior da Paraíba Sociedade Simples LTDA\\n\\n\\n\\n\\n\\n\\n\\n\\n\\n\\n\\n\\n\\n\\n\\n\\n\\n\\n\\n\\n\\n\\n\\n\\n\\n\\n\\n\\n\\n\\n\\n\\n\\n\\n\\n\\n\\n\\n\\n\\n\\n\\n\\n\\n\""
      ]
     },
     "execution_count": 31,
     "metadata": {},
     "output_type": "execute_result"
    }
   ],
   "source": [
    "documents[0].page_content"
   ]
  }
 ],
 "metadata": {
  "kernelspec": {
   "display_name": ".venv",
   "language": "python",
   "name": "python3"
  },
  "language_info": {
   "codemirror_mode": {
    "name": "ipython",
    "version": 3
   },
   "file_extension": ".py",
   "mimetype": "text/x-python",
   "name": "python",
   "nbconvert_exporter": "python",
   "pygments_lexer": "ipython3",
   "version": "3.12.7"
  }
 },
 "nbformat": 4,
 "nbformat_minor": 2
}
