{
 "cells": [
  {
   "cell_type": "code",
   "execution_count": 46,
   "metadata": {},
   "outputs": [
    {
     "data": {
      "text/plain": [
       "True"
      ]
     },
     "execution_count": 46,
     "metadata": {},
     "output_type": "execute_result"
    }
   ],
   "source": [
    "import json\n",
    "import openai\n",
    "import os\n",
    "import dotenv\n",
    "dotenv.load_dotenv()"
   ]
  },
  {
   "cell_type": "code",
   "execution_count": 47,
   "metadata": {},
   "outputs": [],
   "source": [
    "client = openai.Client(api_key=os.environ[\"openaiKey\"])"
   ]
  },
  {
   "cell_type": "code",
   "execution_count": 48,
   "metadata": {},
   "outputs": [],
   "source": [
    "def saudacao_por_periodo(hora):\n",
    "    if 5 <= 5 < 12:\n",
    "        return json.dumps({\"saudacao\":\"bom dia\"})\n",
    "    elif 12 <= hora < 18:\n",
    "        return json.dumps({\"saudacao\":\"boa tarde\"})\n",
    "    elif 18 <= hora < 22:\n",
    "        return json.dumps({\"saudacao\":\"boa noite\"})\n",
    "    else:\n",
    "        return json.dumps({\"saudacao\":\"boa madrugada\"})"
   ]
  },
  {
   "cell_type": "code",
   "execution_count": 49,
   "metadata": {},
   "outputs": [],
   "source": [
    "tools = [{\"type\":\"function\"\n",
    "          ,\"function\":{\"name\":\"saudacao_por_periodo\",\n",
    "                       \"description\":\"retorna uma saudação baseada na hora do dia\"}\n",
    "          ,\"parameters\":{\"type\":\"object\",\n",
    "                         \"properties\":{\"hora\":{\"type\":\"integer\",\n",
    "                                               \"description\":\"a hora do dia em formato de 24h\"}},\"required\":[\"hora\"]}}]"
   ]
  },
  {
   "cell_type": "code",
   "execution_count": 50,
   "metadata": {},
   "outputs": [],
   "source": [
    "funcao_disponivel = {\"saudacao_por_periodo\":saudacao_por_periodo}"
   ]
  },
  {
   "cell_type": "code",
   "execution_count": 51,
   "metadata": {},
   "outputs": [],
   "source": [
    "mensagens = [{\"role\":\"user\",\"content\":\"qual saudação o modelo me da se for 10h?\"}]"
   ]
  },
  {
   "cell_type": "code",
   "execution_count": 52,
   "metadata": {},
   "outputs": [],
   "source": [
    "resposta = client.chat.completions.create(model=\"gpt-3.5-turbo-0125\",messages=mensagens,tools=tools,tool_choice=\"auto\")"
   ]
  },
  {
   "cell_type": "code",
   "execution_count": 53,
   "metadata": {},
   "outputs": [
    {
     "data": {
      "text/plain": [
       "[ChatCompletionMessageToolCall(id='call_EyCnpJyaPeyVZNDKHQPLi8ro', function=Function(arguments='{}', name='saudacao_por_periodo'), type='function')]"
      ]
     },
     "execution_count": 53,
     "metadata": {},
     "output_type": "execute_result"
    }
   ],
   "source": [
    "mensagem = resposta.choices[0].message\n",
    "tool_calls = mensagem.tool_calls\n",
    "tool_calls"
   ]
  },
  {
   "cell_type": "code",
   "execution_count": 54,
   "metadata": {},
   "outputs": [],
   "source": [
    "if tool_calls:\n",
    "    mensagens.append(mensagem)\n",
    "    for tool_call in tool_calls:\n",
    "        function_name = tool_call.function.name\n",
    "        function_to_call = funcao_disponivel[function_name]\n",
    "        function_args = json.loads(tool_call.function.arguments)\n",
    "        function_response = function_to_call(hora=function_args.get(\"hora\"))\n",
    "\n",
    "        mensagens.append({\"tool_call_id\":tool_call.id,\"role\":\"tool\",\"name\":function_name,\"content\":function_response})\n",
    "\n",
    "\n",
    "    segunda_resposta = client.chat.completions.create(model=\"gpt-3.5-turbo-0125\",messages=mensagens)    \n"
   ]
  },
  {
   "cell_type": "code",
   "execution_count": 55,
   "metadata": {},
   "outputs": [
    {
     "data": {
      "text/plain": [
       "ChatCompletionMessage(content='Bom dia!', refusal=None, role='assistant', audio=None, function_call=None, tool_calls=None)"
      ]
     },
     "execution_count": 55,
     "metadata": {},
     "output_type": "execute_result"
    }
   ],
   "source": [
    "mensagem = segunda_resposta.choices[0].message\n",
    "mensagem"
   ]
  }
 ],
 "metadata": {
  "kernelspec": {
   "display_name": ".venv",
   "language": "python",
   "name": "python3"
  },
  "language_info": {
   "codemirror_mode": {
    "name": "ipython",
    "version": 3
   },
   "file_extension": ".py",
   "mimetype": "text/x-python",
   "name": "python",
   "nbconvert_exporter": "python",
   "pygments_lexer": "ipython3",
   "version": "3.12.7"
  }
 },
 "nbformat": 4,
 "nbformat_minor": 2
}
