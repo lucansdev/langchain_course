{
 "cells": [
  {
   "cell_type": "code",
   "execution_count": 12,
   "metadata": {},
   "outputs": [],
   "source": [
    "import openai\n",
    "import os\n",
    "import dotenv\n",
    "\n",
    "dotenv.load_dotenv()\n",
    "\n",
    "client = openai.Client(api_key=os.getenv(\"openaiKey\"))"
   ]
  },
  {
   "cell_type": "code",
   "execution_count": 13,
   "metadata": {},
   "outputs": [],
   "source": [
    "assistant = client.beta.assistants.create(\n",
    "    name=\"tutor de tecnologia\",\n",
    "    instructions=\"você é um tutor sobre assuntos relacionados a tecnologia\",\n",
    "    tools= [{\"type\":\"code_interpreter\"}],\n",
    "    model=\"gpt-3.5-turbo-0125\"\n",
    ")"
   ]
  },
  {
   "cell_type": "code",
   "execution_count": 14,
   "metadata": {},
   "outputs": [],
   "source": [
    "pergunta = \"\"\"eu estou estudando sobre hardware\n",
    "na faculdade e queria saber como funciona um cpu.\"\"\""
   ]
  },
  {
   "cell_type": "code",
   "execution_count": 15,
   "metadata": {},
   "outputs": [],
   "source": [
    "thread = client.beta.threads.create()\n",
    "mensagens = client.beta.threads.messages.create(thread_id=thread.id,role=\"user\",content=pergunta)"
   ]
  },
  {
   "cell_type": "code",
   "execution_count": 16,
   "metadata": {},
   "outputs": [],
   "source": [
    "run = client.beta.threads.runs.create(thread_id=thread.id,assistant_id=assistant.id,instructions=\"nome de usuario premium\")\n"
   ]
  },
  {
   "cell_type": "code",
   "execution_count": 17,
   "metadata": {},
   "outputs": [
    {
     "data": {
      "text/plain": [
       "'queued'"
      ]
     },
     "execution_count": 17,
     "metadata": {},
     "output_type": "execute_result"
    }
   ],
   "source": [
    "run.status"
   ]
  },
  {
   "cell_type": "code",
   "execution_count": 18,
   "metadata": {},
   "outputs": [],
   "source": [
    "import time\n",
    "while run.status in ['queued',\"in_progress\",\"cancelling\"]:\n",
    "    time.sleep(1)\n",
    "    run = client.beta.threads.runs.retrieve(thread_id=thread.id,run_id=run.id)"
   ]
  },
  {
   "cell_type": "code",
   "execution_count": 19,
   "metadata": {},
   "outputs": [
    {
     "name": "stdout",
     "output_type": "stream",
     "text": [
      "SyncCursorPage[Message](data=[Message(id='msg_zB88IMeBXvCBdbAPktQktw2b', assistant_id='asst_gUxtekkazUqthgUqUjYKfUXt', attachments=[], completed_at=None, content=[TextContentBlock(text=Text(annotations=[], value='Um processador, ou CPU (Unidade Central de Processamento), é um dos componentes mais importantes de um computador. Ele é responsável por executar as instruções de programas, realizar cálculos, gerenciar os recursos do sistema e controlar a operação de outros componentes do computador.\\n\\nAqui está uma breve explicação de como um CPU funciona:\\n\\n1. **Unidade de Controle (UC)**: A UC é responsável por buscar as instruções da memória principal, decodificá-las e controlar a execução dessas instruções.\\n\\n2. **Unidade Lógico-Aritmética (ULA)**: A ULA é responsável por realizar operações lógicas (como AND, OR, NOT) e aritméticas (como adição, subtração, multiplicação, divisão) nos dados que estão sendo processados.\\n\\n3. **Registradores**: São pequenas áreas de armazenamento de alta velocidade localizadas dentro do processador. Os registradores são usados para armazenar temporariamente dados e endereços de memória durante a execução de instruções.\\n\\n4. **Unidade de Cache**: A cache é uma memória de acesso rápido que armazena dados e instruções frequentemente utilizados pelo processador, a fim de acelerar a execução de programas.\\n\\n5. **Pipeline de Instruções**: O processador utiliza um pipeline de instruções para executar várias instruções de forma paralela e otimizar o desempenho.\\n\\n6. **Clock**: O processador é sincronizado por um sinal de clock, que determina a velocidade com a qual as instruções são processadas.\\n\\nEstas são apenas algumas das principais funcionalidades de um processador. A arquitetura e o funcionamento exato de um processador podem variar de acordo com o modelo e fabricante.'), type='text')], created_at=1740545740, incomplete_at=None, incomplete_details=None, metadata={}, object='thread.message', role='assistant', run_id='run_kNGG9xxnpmalGZU31BhUBIPD', status=None, thread_id='thread_mRJf5jzpOoIljevgroeWdOEZ'), Message(id='msg_6QOduKOcEcAW5sfvUN3IJhpS', assistant_id=None, attachments=[], completed_at=None, content=[TextContentBlock(text=Text(annotations=[], value='eu estou estudando sobre hardware\\nna faculdade e queria saber como funciona um cpu.'), type='text')], created_at=1740545735, incomplete_at=None, incomplete_details=None, metadata={}, object='thread.message', role='user', run_id=None, status=None, thread_id='thread_mRJf5jzpOoIljevgroeWdOEZ')], has_more=False, object='list', first_id='msg_zB88IMeBXvCBdbAPktQktw2b', last_id='msg_6QOduKOcEcAW5sfvUN3IJhpS')\n"
     ]
    }
   ],
   "source": [
    "if run.status == \"completed\":\n",
    "    mensagens = client.beta.threads.messages.list(thread_id=thread.id)\n",
    "    print(mensagens)\n",
    "else:\n",
    "    print(f\"erro{run.status}\")"
   ]
  },
  {
   "cell_type": "code",
   "execution_count": 20,
   "metadata": {},
   "outputs": [
    {
     "name": "stdout",
     "output_type": "stream",
     "text": [
      "Um processador, ou CPU (Unidade Central de Processamento), é um dos componentes mais importantes de um computador. Ele é responsável por executar as instruções de programas, realizar cálculos, gerenciar os recursos do sistema e controlar a operação de outros componentes do computador.\n",
      "\n",
      "Aqui está uma breve explicação de como um CPU funciona:\n",
      "\n",
      "1. **Unidade de Controle (UC)**: A UC é responsável por buscar as instruções da memória principal, decodificá-las e controlar a execução dessas instruções.\n",
      "\n",
      "2. **Unidade Lógico-Aritmética (ULA)**: A ULA é responsável por realizar operações lógicas (como AND, OR, NOT) e aritméticas (como adição, subtração, multiplicação, divisão) nos dados que estão sendo processados.\n",
      "\n",
      "3. **Registradores**: São pequenas áreas de armazenamento de alta velocidade localizadas dentro do processador. Os registradores são usados para armazenar temporariamente dados e endereços de memória durante a execução de instruções.\n",
      "\n",
      "4. **Unidade de Cache**: A cache é uma memória de acesso rápido que armazena dados e instruções frequentemente utilizados pelo processador, a fim de acelerar a execução de programas.\n",
      "\n",
      "5. **Pipeline de Instruções**: O processador utiliza um pipeline de instruções para executar várias instruções de forma paralela e otimizar o desempenho.\n",
      "\n",
      "6. **Clock**: O processador é sincronizado por um sinal de clock, que determina a velocidade com a qual as instruções são processadas.\n",
      "\n",
      "Estas são apenas algumas das principais funcionalidades de um processador. A arquitetura e o funcionamento exato de um processador podem variar de acordo com o modelo e fabricante.\n"
     ]
    }
   ],
   "source": [
    "print(mensagens.data[0].content[0].text.value)"
   ]
  },
  {
   "cell_type": "code",
   "execution_count": 21,
   "metadata": {},
   "outputs": [],
   "source": [
    "run_steps = client.beta.threads.runs.steps.list(thread_id=thread.id,run_id=run.id)\n"
   ]
  },
  {
   "cell_type": "code",
   "execution_count": 22,
   "metadata": {},
   "outputs": [
    {
     "name": "stdout",
     "output_type": "stream",
     "text": [
      "Um processador, ou CPU (Unidade Central de Processamento), é um dos componentes mais importantes de um computador. Ele é responsável por executar as instruções de programas, realizar cálculos, gerenciar os recursos do sistema e controlar a operação de outros componentes do computador.\n",
      "\n",
      "Aqui está uma breve explicação de como um CPU funciona:\n",
      "\n",
      "1. **Unidade de Controle (UC)**: A UC é responsável por buscar as instruções da memória principal, decodificá-las e controlar a execução dessas instruções.\n",
      "\n",
      "2. **Unidade Lógico-Aritmética (ULA)**: A ULA é responsável por realizar operações lógicas (como AND, OR, NOT) e aritméticas (como adição, subtração, multiplicação, divisão) nos dados que estão sendo processados.\n",
      "\n",
      "3. **Registradores**: São pequenas áreas de armazenamento de alta velocidade localizadas dentro do processador. Os registradores são usados para armazenar temporariamente dados e endereços de memória durante a execução de instruções.\n",
      "\n",
      "4. **Unidade de Cache**: A cache é uma memória de acesso rápido que armazena dados e instruções frequentemente utilizados pelo processador, a fim de acelerar a execução de programas.\n",
      "\n",
      "5. **Pipeline de Instruções**: O processador utiliza um pipeline de instruções para executar várias instruções de forma paralela e otimizar o desempenho.\n",
      "\n",
      "6. **Clock**: O processador é sincronizado por um sinal de clock, que determina a velocidade com a qual as instruções são processadas.\n",
      "\n",
      "Estas são apenas algumas das principais funcionalidades de um processador. A arquitetura e o funcionamento exato de um processador podem variar de acordo com o modelo e fabricante.\n"
     ]
    }
   ],
   "source": [
    "for step in run_steps:\n",
    "    if step.step_details.type == \"tool_calls\":\n",
    "        for tool_call in step.step_details.tool_calls:\n",
    "            print(\"=\" * 10)\n",
    "            print(tool_call.code_interpreter.input)\n",
    "            print(\"=\" * 10)\n",
    "    if step.step_details.type == \"message_creation\":\n",
    "        message = client.beta.threads.messages.retrieve(thread_id=thread.id,message_id=step.step_details.message_creation.message_id)\n",
    "        print(message.content[0].text.value)"
   ]
  }
 ],
 "metadata": {
  "kernelspec": {
   "display_name": ".venv",
   "language": "python",
   "name": "python3"
  },
  "language_info": {
   "codemirror_mode": {
    "name": "ipython",
    "version": 3
   },
   "file_extension": ".py",
   "mimetype": "text/x-python",
   "name": "python",
   "nbconvert_exporter": "python",
   "pygments_lexer": "ipython3",
   "version": "3.12.7"
  }
 },
 "nbformat": 4,
 "nbformat_minor": 2
}
