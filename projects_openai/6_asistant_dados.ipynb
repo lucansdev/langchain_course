{
 "cells": [
  {
   "cell_type": "code",
   "execution_count": 67,
   "metadata": {},
   "outputs": [
    {
     "data": {
      "text/plain": [
       "True"
      ]
     },
     "execution_count": 67,
     "metadata": {},
     "output_type": "execute_result"
    }
   ],
   "source": [
    "import openai\n",
    "import pandas as pd\n",
    "import dotenv\n",
    "import os\n",
    "\n",
    "dotenv.load_dotenv()"
   ]
  },
  {
   "cell_type": "code",
   "execution_count": 68,
   "metadata": {},
   "outputs": [],
   "source": [
    "client = openai.Client(api_key=os.getenv(\"openaiKey\"))"
   ]
  },
  {
   "cell_type": "code",
   "execution_count": 69,
   "metadata": {},
   "outputs": [],
   "source": [
    "file = client.files.create(\n",
    "    file=open(\"sales_data.csv\",\"rb\"),\n",
    "    purpose=\"assistants\"\n",
    ")"
   ]
  },
  {
   "cell_type": "code",
   "execution_count": 70,
   "metadata": {},
   "outputs": [
    {
     "name": "stdout",
     "output_type": "stream",
     "text": [
      "file-UWwqyovKyZmgU1s7vQSG2Z\n"
     ]
    }
   ],
   "source": [
    "print(file.id)"
   ]
  },
  {
   "cell_type": "code",
   "execution_count": 71,
   "metadata": {},
   "outputs": [],
   "source": [
    "assistant = client.beta.assistants.create(\n",
    "    name=\"analista de dados\",\n",
    "    instructions=\"você e um analista que analisa dados sobre venda\",\n",
    "    tools=[{\"type\":\"code_interpreter\"}],\n",
    "    tool_resources={\"code_interpreter\":{\"file_ids\":[file.id]}},\n",
    "    model=\"gpt-4o\"\n",
    ")"
   ]
  },
  {
   "cell_type": "code",
   "execution_count": 72,
   "metadata": {},
   "outputs": [],
   "source": [
    "pergunta = \"gere um grafico de pizza com o percentual de vendas por linha de produto\""
   ]
  },
  {
   "cell_type": "code",
   "execution_count": 73,
   "metadata": {},
   "outputs": [],
   "source": [
    "thread = client.beta.threads.create()\n",
    "mensagens = client.beta.threads.messages.create(thread_id=thread.id,role=\"user\",content=pergunta)"
   ]
  },
  {
   "cell_type": "code",
   "execution_count": 74,
   "metadata": {},
   "outputs": [],
   "source": [
    "run = client.beta.threads.runs.create(thread_id=thread.id,assistant_id=assistant.id,instructions=\"nome de usuario premium\")\n"
   ]
  },
  {
   "cell_type": "code",
   "execution_count": 75,
   "metadata": {},
   "outputs": [],
   "source": [
    "import time\n",
    "while run.status in [\"queued\",\"in_progress\",\"cancelling\"]:\n",
    "    time.sleep(1)\n",
    "    run = client.beta.threads.runs.retrieve(thread_id=thread.id,run_id=run.id)\n"
   ]
  },
  {
   "cell_type": "code",
   "execution_count": 76,
   "metadata": {},
   "outputs": [
    {
     "name": "stdout",
     "output_type": "stream",
     "text": [
      "SyncCursorPage[Message](data=[Message(id='msg_XoJPZ4nYzTnzX3x5UY5qiI17', assistant_id='asst_4qF4LM7CYSIS7nRTCEvwwGex', attachments=[], completed_at=None, content=[ImageFileContentBlock(image_file=ImageFile(file_id='file-GxFntVerM9JBE7iqdmBJ3f', detail=None), type='image_file'), TextContentBlock(text=Text(annotations=[], value='Aqui está o gráfico de pizza mostrando o percentual de vendas por linha de produto. Cada fatia representa a proporção de vendas de cada categoria em relação ao total. Se precisar de mais alguma coisa ou de algum detalhe específico, sinta-se à vontade para perguntar!'), type='text')], created_at=1740590712, incomplete_at=None, incomplete_details=None, metadata={}, object='thread.message', role='assistant', run_id='run_aLCEWN5ca4QuZ9cQMjzU5YjV', status=None, thread_id='thread_9Xegj3kGcFtoUk4WwYG3I6Wv'), Message(id='msg_6EsATdtl4hh1BlBrHiqSLq6N', assistant_id='asst_4qF4LM7CYSIS7nRTCEvwwGex', attachments=[], completed_at=None, content=[TextContentBlock(text=Text(annotations=[], value='O arquivo contém colunas relacionadas a vendas, como \"Product line\" e \"Total\". Vamos calcular o total de vendas para cada linha de produto e, em seguida, usar essas informações para gerar um gráfico de pizza mostrando o percentual de vendas por linha de produto.'), type='text')], created_at=1740590699, incomplete_at=None, incomplete_details=None, metadata={}, object='thread.message', role='assistant', run_id='run_aLCEWN5ca4QuZ9cQMjzU5YjV', status=None, thread_id='thread_9Xegj3kGcFtoUk4WwYG3I6Wv'), Message(id='msg_ga6qxq16SWtbdDSYSUpUvxrG', assistant_id='asst_4qF4LM7CYSIS7nRTCEvwwGex', attachments=[], completed_at=None, content=[TextContentBlock(text=Text(annotations=[], value='Para gerar um gráfico de pizza com o percentual de vendas por linha de produto, primeiro preciso examinar o conteúdo do arquivo que você enviou. Vamos começar carregando e analisando os dados do arquivo.'), type='text')], created_at=1740590693, incomplete_at=None, incomplete_details=None, metadata={}, object='thread.message', role='assistant', run_id='run_aLCEWN5ca4QuZ9cQMjzU5YjV', status=None, thread_id='thread_9Xegj3kGcFtoUk4WwYG3I6Wv'), Message(id='msg_9mig9lnDS0Lq4kXav6J3K118', assistant_id=None, attachments=[], completed_at=None, content=[TextContentBlock(text=Text(annotations=[], value='gere um grafico de pizza com o percentual de vendas por linha de produto'), type='text')], created_at=1740590690, incomplete_at=None, incomplete_details=None, metadata={}, object='thread.message', role='user', run_id=None, status=None, thread_id='thread_9Xegj3kGcFtoUk4WwYG3I6Wv')], has_more=False, object='list', first_id='msg_XoJPZ4nYzTnzX3x5UY5qiI17', last_id='msg_9mig9lnDS0Lq4kXav6J3K118')\n"
     ]
    }
   ],
   "source": [
    "if run.status == \"completed\":\n",
    "    mensagens = client.beta.threads.messages.list(thread_id=thread.id)\n",
    "    print(mensagens)\n",
    "else:\n",
    "    print(f\"erro{run.status}\")"
   ]
  },
  {
   "cell_type": "code",
   "execution_count": 77,
   "metadata": {},
   "outputs": [],
   "source": [
    "run_steps = client.beta.threads.runs.steps.list(thread_id=thread.id,run_id=run.id)\n"
   ]
  },
  {
   "cell_type": "code",
   "execution_count": 78,
   "metadata": {},
   "outputs": [
    {
     "name": "stdout",
     "output_type": "stream",
     "text": [
      "\n",
      "====Step message_creation\n",
      "Para gerar um gráfico de pizza com o percentual de vendas por linha de produto, primeiro preciso examinar o conteúdo do arquivo que você enviou. Vamos começar carregando e analisando os dados do arquivo.\n",
      "\n",
      "====Step tool_calls\n",
      "==========\n",
      "import pandas as pd\n",
      "\n",
      "# Carregar o arquivo enviado para um DataFrame do Pandas\n",
      "file_path = '/mnt/data/file-UWwqyovKyZmgU1s7vQSG2Z'\n",
      "data = pd.read_csv(file_path)\n",
      "\n",
      "# Exibir as primeiras linhas do DataFrame para entender sua estrutura\n",
      "data.head()\n",
      "==========\n",
      "\n",
      "====Step message_creation\n",
      "O arquivo contém colunas relacionadas a vendas, como \"Product line\" e \"Total\". Vamos calcular o total de vendas para cada linha de produto e, em seguida, usar essas informações para gerar um gráfico de pizza mostrando o percentual de vendas por linha de produto.\n",
      "\n",
      "====Step tool_calls\n",
      "==========\n",
      "import matplotlib.pyplot as plt\n",
      "\n",
      "# Calcular o total de vendas por linha de produto\n",
      "sales_by_product_line = data.groupby('Product line')['Total'].sum()\n",
      "\n",
      "# Calcular o percentual de vendas por linha de produto\n",
      "percent_sales_by_product_line = sales_by_product_line / sales_by_product_line.sum() * 100\n",
      "\n",
      "# Criar um gráfico de pizza\n",
      "plt.figure(figsize=(10, 7))\n",
      "plt.pie(percent_sales_by_product_line, labels=percent_sales_by_product_line.index, autopct='%1.1f%%', startangle=140)\n",
      "\n",
      "# Adicionar título\n",
      "plt.title('Percentual de Vendas por Linha de Produto')\n",
      "\n",
      "# Mostrar o gráfico\n",
      "plt.show()\n",
      "==========\n",
      "\n",
      "====Step message_creation\n",
      "Imagem file-GxFntVerM9JBE7iqdmBJ3f salva\n"
     ]
    }
   ],
   "source": [
    "for step in run_steps.data[::-1]:\n",
    "    print(f\"\\n====Step {step.step_details.type}\")\n",
    "    if step.step_details.type == \"tool_calls\":\n",
    "        for tool_call in step.step_details.tool_calls:\n",
    "            print(\"=\" *10)\n",
    "            print(tool_call.code_interpreter.input)\n",
    "            print(\"=\"*10)\n",
    "    if step.step_details.type == \"message_creation\":\n",
    "        message = client.beta.threads.messages.retrieve(\n",
    "            thread_id=thread.id,\n",
    "            message_id=step.step_details.message_creation.message_id\n",
    "        )\n",
    "        if message.content[0].type == \"text\":\n",
    "            print(message.content[0].text.value)\n",
    "        if message.content[0].type == \"image_file\":\n",
    "            file_id = message.content[0].image_file.file_id\n",
    "            image_data = client.files.content(file_id)\n",
    "            with open(f\"{file.id}.png\", \"wb\") as f:\n",
    "                f.write(image_data.read())\n",
    "                print(f\"Imagem {file_id} salva\")"
   ]
  }
 ],
 "metadata": {
  "kernelspec": {
   "display_name": ".venv",
   "language": "python",
   "name": "python3"
  },
  "language_info": {
   "codemirror_mode": {
    "name": "ipython",
    "version": 3
   },
   "file_extension": ".py",
   "mimetype": "text/x-python",
   "name": "python",
   "nbconvert_exporter": "python",
   "pygments_lexer": "ipython3",
   "version": "3.12.7"
  }
 },
 "nbformat": 4,
 "nbformat_minor": 2
}
