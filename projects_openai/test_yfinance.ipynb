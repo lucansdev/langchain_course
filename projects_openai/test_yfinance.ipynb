{
 "cells": [
  {
   "cell_type": "code",
   "execution_count": 8,
   "metadata": {},
   "outputs": [],
   "source": [
    "import yfinance as yf\n"
   ]
  },
  {
   "cell_type": "code",
   "execution_count": 9,
   "metadata": {},
   "outputs": [],
   "source": [
    "ticker = \"BBDC4\"\n",
    "period = \"5d\"\n",
    "ticker_obj = yf.Ticker(f\"{ticker}.SA\")"
   ]
  },
  {
   "cell_type": "code",
   "execution_count": 10,
   "metadata": {},
   "outputs": [
    {
     "name": "stderr",
     "output_type": "stream",
     "text": [
      "Could not get exchangeTimezoneName for ticker 'BBDC4.SA' reason: 'chart'\n",
      "$BBDC4.SA: possibly delisted; no price data found  (period=5d)\n"
     ]
    },
    {
     "data": {
      "text/html": [
       "<div>\n",
       "<style scoped>\n",
       "    .dataframe tbody tr th:only-of-type {\n",
       "        vertical-align: middle;\n",
       "    }\n",
       "\n",
       "    .dataframe tbody tr th {\n",
       "        vertical-align: top;\n",
       "    }\n",
       "\n",
       "    .dataframe thead th {\n",
       "        text-align: right;\n",
       "    }\n",
       "</style>\n",
       "<table border=\"1\" class=\"dataframe\">\n",
       "  <thead>\n",
       "    <tr style=\"text-align: right;\">\n",
       "      <th></th>\n",
       "      <th>Open</th>\n",
       "      <th>High</th>\n",
       "      <th>Low</th>\n",
       "      <th>Close</th>\n",
       "      <th>Adj Close</th>\n",
       "      <th>Volume</th>\n",
       "    </tr>\n",
       "    <tr>\n",
       "      <th>Date</th>\n",
       "      <th></th>\n",
       "      <th></th>\n",
       "      <th></th>\n",
       "      <th></th>\n",
       "      <th></th>\n",
       "      <th></th>\n",
       "    </tr>\n",
       "  </thead>\n",
       "  <tbody>\n",
       "  </tbody>\n",
       "</table>\n",
       "</div>"
      ],
      "text/plain": [
       "Empty DataFrame\n",
       "Columns: [Open, High, Low, Close, Adj Close, Volume]\n",
       "Index: []"
      ]
     },
     "execution_count": 10,
     "metadata": {},
     "output_type": "execute_result"
    }
   ],
   "source": [
    "ticker_obj.history(period=period)"
   ]
  },
  {
   "cell_type": "code",
   "execution_count": 11,
   "metadata": {},
   "outputs": [],
   "source": [
    "def retorna_cotacao(ticker,period=\"1mo\"):\n",
    "    ticker_obj = yf.Ticker(f\"{ticker}.SA\")\n",
    "    hist = ticker_obj.history(period=period)[\"Close\"]\n",
    "    hist.index = hist.index.strftime(\"%Y-%m-%d\")\n",
    "    hist = round(hist,2)\n",
    "\n",
    "    if len(hist)> 30:\n",
    "        slice_size = int(len(hist)/ 30)\n",
    "        hist = hist.iloc[::slice_size][::-1]\n",
    "\n",
    "    return hist.to_json()"
   ]
  },
  {
   "cell_type": "code",
   "execution_count": 12,
   "metadata": {},
   "outputs": [
    {
     "data": {
      "text/plain": [
       "'{\"2025-02-14\":28.75,\"2025-02-04\":27.77,\"2025-01-23\":26.72,\"2025-01-13\":24.21,\"2024-12-30\":24.17,\"2024-12-16\":24.16,\"2024-12-04\":24.99,\"2024-11-22\":24.94,\"2024-11-08\":25.32,\"2024-10-29\":25.5,\"2024-10-17\":26.04,\"2024-10-07\":26.3,\"2024-09-25\":26.6,\"2024-09-13\":27.69,\"2024-09-03\":27.76,\"2024-08-22\":27.12,\"2024-08-12\":25.83,\"2024-07-31\":25.28,\"2024-07-19\":25.82,\"2024-07-09\":24.95,\"2024-06-27\":25.43,\"2024-06-17\":25.19,\"2024-06-05\":25.36,\"2024-05-23\":25.03,\"2024-05-13\":25.86,\"2024-04-30\":25.48,\"2024-04-18\":25.95,\"2024-04-08\":26.9,\"2024-03-26\":25.99,\"2024-03-14\":26.35,\"2024-03-04\":26.61,\"2024-02-21\":27.42}'"
      ]
     },
     "execution_count": 12,
     "metadata": {},
     "output_type": "execute_result"
    }
   ],
   "source": [
    "hist = retorna_cotacao(\"BBAS3\",\"1y\")\n",
    "hist"
   ]
  }
 ],
 "metadata": {
  "kernelspec": {
   "display_name": ".venv",
   "language": "python",
   "name": "python3"
  },
  "language_info": {
   "codemirror_mode": {
    "name": "ipython",
    "version": 3
   },
   "file_extension": ".py",
   "mimetype": "text/x-python",
   "name": "python",
   "nbconvert_exporter": "python",
   "pygments_lexer": "ipython3",
   "version": "3.12.7"
  }
 },
 "nbformat": 4,
 "nbformat_minor": 2
}
